{
 "cells": [
  {
   "cell_type": "markdown",
   "metadata": {},
   "source": [
    "## Какие игры рекламировать?\n",
    "\n",
    "Наше исследование выполнено для интернет-магазина «Стримчик», который продаёт по всему миру компьютерные игры. Мы выявили закономерности, которые позволяют выявить популярные игры. Это поможет спланировать рекламные кампании в будущем 2017 году. Рекламируя самые востребованные игры и платформы, \"Стримчик\" сможет больше заработать.\n",
    "\n",
    "Для анализа нам были доступны данные о продажах игр в 1985-2016 годах. В датасете есть информация о дате выпуска игры, платформе, на которой она выпущена, игровом жанре, продажах в разных регионах, пользовательских рейтингах и рейтингах критиков.\n",
    "\n",
    "Мы взяли данные из открытого источника - энтузиаст по имени Rush Kirubi спарсил данные с сайта VGChartz, который публикует информацию о продажах видеоигр, и сайта Metacritic, который публикует данные о рейтингах.\n",
    "\n",
    "Датасет был сформирован 22 декабря 2016 года.\n",
    "\n",
    "Ссылка на первоисточник: https://www.kaggle.com/rush4ratio/video-game-sales-with-ratings "
   ]
  },
  {
   "cell_type": "markdown",
   "metadata": {},
   "source": [
    "Шаг 1 [Импорт бибилиотек, изучение документов](#the_destination)"
   ]
  },
  {
   "cell_type": "markdown",
   "metadata": {},
   "source": [
    "Шаг 2 [Обработка пропусков и ошибок](#the_destination2)"
   ]
  },
  {
   "cell_type": "markdown",
   "metadata": {},
   "source": [
    "Шаг 3 [Сколько игр продается больше одного года](#the_destination3)"
   ]
  },
  {
   "cell_type": "markdown",
   "metadata": {},
   "source": [
    "Шаг 4 [Как продавались игры в разные годы](#the_destination4)"
   ]
  },
  {
   "cell_type": "markdown",
   "metadata": {},
   "source": [
    "Шаг 5 [Жизненный цикл платформ](#the_destination5)"
   ]
  },
  {
   "cell_type": "markdown",
   "metadata": {},
   "source": [
    "Шаг 6 [Влияние оценок других пользователей на продажи](#the_destination6)"
   ]
  },
  {
   "cell_type": "markdown",
   "metadata": {},
   "source": [
    "Шаг 7 [Портрет пользователей разных регионов](#the_destination7)"
   ]
  },
  {
   "cell_type": "markdown",
   "metadata": {},
   "source": [
    "Шаг 8 [Проверка гипотез](#the_destination8)"
   ]
  },
  {
   "cell_type": "markdown",
   "metadata": {},
   "source": [
    "[Вывод](#the_destination9)"
   ]
  },
  {
   "cell_type": "markdown",
   "metadata": {},
   "source": [
    "<a id='the_destination'></a>\n",
    "## Импорт бибилиотек, изучение документов"
   ]
  },
  {
   "cell_type": "code",
   "execution_count": 1,
   "metadata": {},
   "outputs": [],
   "source": [
    "import pandas as pd\n",
    "import numpy as np\n",
    "from scipy import stats as st\n",
    "import seaborn as sns\n",
    "import matplotlib.pyplot as plt\n",
    "from matplotlib.ticker import MultipleLocator\n",
    "from datetime import timedelta\n",
    "import datetime\n",
    "import math\n",
    "from pandas.plotting import register_matplotlib_converters\n",
    "register_matplotlib_converters()\n",
    "\n",
    "pd.set_option('display.max_columns', 35)"
   ]
  },
  {
   "cell_type": "code",
   "execution_count": 2,
   "metadata": {
    "scrolled": false
   },
   "outputs": [
    {
     "name": "stdout",
     "output_type": "stream",
     "text": [
      "<class 'pandas.core.frame.DataFrame'>\n",
      "RangeIndex: 16715 entries, 0 to 16714\n",
      "Data columns (total 11 columns):\n",
      "Name               16713 non-null object\n",
      "Platform           16715 non-null object\n",
      "Year_of_Release    16446 non-null float64\n",
      "Genre              16713 non-null object\n",
      "NA_sales           16715 non-null float64\n",
      "EU_sales           16715 non-null float64\n",
      "JP_sales           16715 non-null float64\n",
      "Other_sales        16715 non-null float64\n",
      "Critic_Score       8137 non-null float64\n",
      "User_Score         10014 non-null object\n",
      "Rating             9949 non-null object\n",
      "dtypes: float64(6), object(5)\n",
      "memory usage: 1.4+ MB\n"
     ]
    },
    {
     "data": {
      "text/html": [
       "<div>\n",
       "<style scoped>\n",
       "    .dataframe tbody tr th:only-of-type {\n",
       "        vertical-align: middle;\n",
       "    }\n",
       "\n",
       "    .dataframe tbody tr th {\n",
       "        vertical-align: top;\n",
       "    }\n",
       "\n",
       "    .dataframe thead th {\n",
       "        text-align: right;\n",
       "    }\n",
       "</style>\n",
       "<table border=\"1\" class=\"dataframe\">\n",
       "  <thead>\n",
       "    <tr style=\"text-align: right;\">\n",
       "      <th></th>\n",
       "      <th>Name</th>\n",
       "      <th>Platform</th>\n",
       "      <th>Year_of_Release</th>\n",
       "      <th>Genre</th>\n",
       "      <th>NA_sales</th>\n",
       "      <th>EU_sales</th>\n",
       "      <th>JP_sales</th>\n",
       "      <th>Other_sales</th>\n",
       "      <th>Critic_Score</th>\n",
       "      <th>User_Score</th>\n",
       "      <th>Rating</th>\n",
       "    </tr>\n",
       "  </thead>\n",
       "  <tbody>\n",
       "    <tr>\n",
       "      <td>0</td>\n",
       "      <td>Wii Sports</td>\n",
       "      <td>Wii</td>\n",
       "      <td>2006.0</td>\n",
       "      <td>Sports</td>\n",
       "      <td>41.36</td>\n",
       "      <td>28.96</td>\n",
       "      <td>3.77</td>\n",
       "      <td>8.45</td>\n",
       "      <td>76.0</td>\n",
       "      <td>8</td>\n",
       "      <td>E</td>\n",
       "    </tr>\n",
       "    <tr>\n",
       "      <td>1</td>\n",
       "      <td>Super Mario Bros.</td>\n",
       "      <td>NES</td>\n",
       "      <td>1985.0</td>\n",
       "      <td>Platform</td>\n",
       "      <td>29.08</td>\n",
       "      <td>3.58</td>\n",
       "      <td>6.81</td>\n",
       "      <td>0.77</td>\n",
       "      <td>NaN</td>\n",
       "      <td>NaN</td>\n",
       "      <td>NaN</td>\n",
       "    </tr>\n",
       "    <tr>\n",
       "      <td>2</td>\n",
       "      <td>Mario Kart Wii</td>\n",
       "      <td>Wii</td>\n",
       "      <td>2008.0</td>\n",
       "      <td>Racing</td>\n",
       "      <td>15.68</td>\n",
       "      <td>12.76</td>\n",
       "      <td>3.79</td>\n",
       "      <td>3.29</td>\n",
       "      <td>82.0</td>\n",
       "      <td>8.3</td>\n",
       "      <td>E</td>\n",
       "    </tr>\n",
       "    <tr>\n",
       "      <td>3</td>\n",
       "      <td>Wii Sports Resort</td>\n",
       "      <td>Wii</td>\n",
       "      <td>2009.0</td>\n",
       "      <td>Sports</td>\n",
       "      <td>15.61</td>\n",
       "      <td>10.93</td>\n",
       "      <td>3.28</td>\n",
       "      <td>2.95</td>\n",
       "      <td>80.0</td>\n",
       "      <td>8</td>\n",
       "      <td>E</td>\n",
       "    </tr>\n",
       "    <tr>\n",
       "      <td>4</td>\n",
       "      <td>Pokemon Red/Pokemon Blue</td>\n",
       "      <td>GB</td>\n",
       "      <td>1996.0</td>\n",
       "      <td>Role-Playing</td>\n",
       "      <td>11.27</td>\n",
       "      <td>8.89</td>\n",
       "      <td>10.22</td>\n",
       "      <td>1.00</td>\n",
       "      <td>NaN</td>\n",
       "      <td>NaN</td>\n",
       "      <td>NaN</td>\n",
       "    </tr>\n",
       "    <tr>\n",
       "      <td>...</td>\n",
       "      <td>...</td>\n",
       "      <td>...</td>\n",
       "      <td>...</td>\n",
       "      <td>...</td>\n",
       "      <td>...</td>\n",
       "      <td>...</td>\n",
       "      <td>...</td>\n",
       "      <td>...</td>\n",
       "      <td>...</td>\n",
       "      <td>...</td>\n",
       "      <td>...</td>\n",
       "    </tr>\n",
       "    <tr>\n",
       "      <td>16710</td>\n",
       "      <td>Samurai Warriors: Sanada Maru</td>\n",
       "      <td>PS3</td>\n",
       "      <td>2016.0</td>\n",
       "      <td>Action</td>\n",
       "      <td>0.00</td>\n",
       "      <td>0.00</td>\n",
       "      <td>0.01</td>\n",
       "      <td>0.00</td>\n",
       "      <td>NaN</td>\n",
       "      <td>NaN</td>\n",
       "      <td>NaN</td>\n",
       "    </tr>\n",
       "    <tr>\n",
       "      <td>16711</td>\n",
       "      <td>LMA Manager 2007</td>\n",
       "      <td>X360</td>\n",
       "      <td>2006.0</td>\n",
       "      <td>Sports</td>\n",
       "      <td>0.00</td>\n",
       "      <td>0.01</td>\n",
       "      <td>0.00</td>\n",
       "      <td>0.00</td>\n",
       "      <td>NaN</td>\n",
       "      <td>NaN</td>\n",
       "      <td>NaN</td>\n",
       "    </tr>\n",
       "    <tr>\n",
       "      <td>16712</td>\n",
       "      <td>Haitaka no Psychedelica</td>\n",
       "      <td>PSV</td>\n",
       "      <td>2016.0</td>\n",
       "      <td>Adventure</td>\n",
       "      <td>0.00</td>\n",
       "      <td>0.00</td>\n",
       "      <td>0.01</td>\n",
       "      <td>0.00</td>\n",
       "      <td>NaN</td>\n",
       "      <td>NaN</td>\n",
       "      <td>NaN</td>\n",
       "    </tr>\n",
       "    <tr>\n",
       "      <td>16713</td>\n",
       "      <td>Spirits &amp; Spells</td>\n",
       "      <td>GBA</td>\n",
       "      <td>2003.0</td>\n",
       "      <td>Platform</td>\n",
       "      <td>0.01</td>\n",
       "      <td>0.00</td>\n",
       "      <td>0.00</td>\n",
       "      <td>0.00</td>\n",
       "      <td>NaN</td>\n",
       "      <td>NaN</td>\n",
       "      <td>NaN</td>\n",
       "    </tr>\n",
       "    <tr>\n",
       "      <td>16714</td>\n",
       "      <td>Winning Post 8 2016</td>\n",
       "      <td>PSV</td>\n",
       "      <td>2016.0</td>\n",
       "      <td>Simulation</td>\n",
       "      <td>0.00</td>\n",
       "      <td>0.00</td>\n",
       "      <td>0.01</td>\n",
       "      <td>0.00</td>\n",
       "      <td>NaN</td>\n",
       "      <td>NaN</td>\n",
       "      <td>NaN</td>\n",
       "    </tr>\n",
       "  </tbody>\n",
       "</table>\n",
       "<p>16715 rows × 11 columns</p>\n",
       "</div>"
      ],
      "text/plain": [
       "                                Name Platform  Year_of_Release         Genre  \\\n",
       "0                         Wii Sports      Wii           2006.0        Sports   \n",
       "1                  Super Mario Bros.      NES           1985.0      Platform   \n",
       "2                     Mario Kart Wii      Wii           2008.0        Racing   \n",
       "3                  Wii Sports Resort      Wii           2009.0        Sports   \n",
       "4           Pokemon Red/Pokemon Blue       GB           1996.0  Role-Playing   \n",
       "...                              ...      ...              ...           ...   \n",
       "16710  Samurai Warriors: Sanada Maru      PS3           2016.0        Action   \n",
       "16711               LMA Manager 2007     X360           2006.0        Sports   \n",
       "16712        Haitaka no Psychedelica      PSV           2016.0     Adventure   \n",
       "16713               Spirits & Spells      GBA           2003.0      Platform   \n",
       "16714            Winning Post 8 2016      PSV           2016.0    Simulation   \n",
       "\n",
       "       NA_sales  EU_sales  JP_sales  Other_sales  Critic_Score User_Score  \\\n",
       "0         41.36     28.96      3.77         8.45          76.0          8   \n",
       "1         29.08      3.58      6.81         0.77           NaN        NaN   \n",
       "2         15.68     12.76      3.79         3.29          82.0        8.3   \n",
       "3         15.61     10.93      3.28         2.95          80.0          8   \n",
       "4         11.27      8.89     10.22         1.00           NaN        NaN   \n",
       "...         ...       ...       ...          ...           ...        ...   \n",
       "16710      0.00      0.00      0.01         0.00           NaN        NaN   \n",
       "16711      0.00      0.01      0.00         0.00           NaN        NaN   \n",
       "16712      0.00      0.00      0.01         0.00           NaN        NaN   \n",
       "16713      0.01      0.00      0.00         0.00           NaN        NaN   \n",
       "16714      0.00      0.00      0.01         0.00           NaN        NaN   \n",
       "\n",
       "      Rating  \n",
       "0          E  \n",
       "1        NaN  \n",
       "2          E  \n",
       "3          E  \n",
       "4        NaN  \n",
       "...      ...  \n",
       "16710    NaN  \n",
       "16711    NaN  \n",
       "16712    NaN  \n",
       "16713    NaN  \n",
       "16714    NaN  \n",
       "\n",
       "[16715 rows x 11 columns]"
      ]
     },
     "metadata": {},
     "output_type": "display_data"
    }
   ],
   "source": [
    "games = pd.read_csv('/datasets/games.csv', sep=',')\n",
    "games.info()\n",
    "display(games)\n",
    "#http://web.archive.org/web/20191118060822/http://www.vgchartz.com/yearly/2010/Global"
   ]
  },
  {
   "cell_type": "markdown",
   "metadata": {},
   "source": [
    "## Вывод\n",
    "В предоставленной нам таблице есть следующая информация:\n",
    "\n",
    "Name — название игры\n",
    "Platform — платформа\n",
    "Year_of_Release — год выпуска\n",
    "Genre — жанр игры\n",
    "NA_sales — продажи в Северной Америке (миллионы долларов)\n",
    "EU_sales — продажи в Европе (миллионы долларов)\n",
    "JP_sales — продажи в Японии (миллионы долларов)\n",
    "Other_sales — продажи в других странах (миллионы долларов)\n",
    "Critic_Score — оценка критиков (максимум 100)\n",
    "User_Score — оценка пользователей (максимум 10)\n",
    "Rating — рейтинг от организации ESRB (англ. Entertainment Software Rating Board). Эта ассоциация определяет рейтинг компьютерных игр и присваивает им подходящую возрастную категорию.\n",
    "\n",
    "Всего в датасете данные о 16,7 тыс. игр на разных платформах.\n",
    "\n",
    "В данных есть пропуски в столбцах с рейтингами. Как указывает создатель датасета, это происходит потому что сайт Metacritic собирает информацию не про все игровые платформы. Кроме того, рейтинг не выставляется, если игру оценило слишком мало пользователей."
   ]
  },
  {
   "cell_type": "markdown",
   "metadata": {},
   "source": [
    "<a id='the_destination2'></a>\n",
    "## Обработка пропусков и ошибок"
   ]
  },
  {
   "cell_type": "markdown",
   "metadata": {},
   "source": [
    "Приведем названия столбцов к нижнему регистру для удобства работы с таблицей."
   ]
  },
  {
   "cell_type": "code",
   "execution_count": 3,
   "metadata": {},
   "outputs": [
    {
     "name": "stdout",
     "output_type": "stream",
     "text": [
      "<class 'pandas.core.frame.DataFrame'>\n",
      "RangeIndex: 16715 entries, 0 to 16714\n",
      "Data columns (total 11 columns):\n",
      "name               16713 non-null object\n",
      "platform           16715 non-null object\n",
      "year_of_release    16446 non-null float64\n",
      "genre              16713 non-null object\n",
      "na_sales           16715 non-null float64\n",
      "eu_sales           16715 non-null float64\n",
      "jp_sales           16715 non-null float64\n",
      "other_sales        16715 non-null float64\n",
      "critic_score       8137 non-null float64\n",
      "user_score         10014 non-null object\n",
      "rating             9949 non-null object\n",
      "dtypes: float64(6), object(5)\n",
      "memory usage: 1.4+ MB\n"
     ]
    }
   ],
   "source": [
    "games.columns = map(str.lower, games.columns)\n",
    "games.info()"
   ]
  },
  {
   "cell_type": "markdown",
   "metadata": {},
   "source": [
    "Дополним нашу таблицу. У нас есть данные по продажам игр в отдельных регионах. Подсчитаем общие продажи."
   ]
  },
  {
   "cell_type": "code",
   "execution_count": 4,
   "metadata": {},
   "outputs": [
    {
     "data": {
      "text/html": [
       "<div>\n",
       "<style scoped>\n",
       "    .dataframe tbody tr th:only-of-type {\n",
       "        vertical-align: middle;\n",
       "    }\n",
       "\n",
       "    .dataframe tbody tr th {\n",
       "        vertical-align: top;\n",
       "    }\n",
       "\n",
       "    .dataframe thead th {\n",
       "        text-align: right;\n",
       "    }\n",
       "</style>\n",
       "<table border=\"1\" class=\"dataframe\">\n",
       "  <thead>\n",
       "    <tr style=\"text-align: right;\">\n",
       "      <th></th>\n",
       "      <th>name</th>\n",
       "      <th>platform</th>\n",
       "      <th>year_of_release</th>\n",
       "      <th>genre</th>\n",
       "      <th>na_sales</th>\n",
       "      <th>eu_sales</th>\n",
       "      <th>jp_sales</th>\n",
       "      <th>other_sales</th>\n",
       "      <th>critic_score</th>\n",
       "      <th>user_score</th>\n",
       "      <th>rating</th>\n",
       "      <th>total_sales</th>\n",
       "    </tr>\n",
       "  </thead>\n",
       "  <tbody>\n",
       "    <tr>\n",
       "      <td>0</td>\n",
       "      <td>Wii Sports</td>\n",
       "      <td>Wii</td>\n",
       "      <td>2006.0</td>\n",
       "      <td>Sports</td>\n",
       "      <td>41.36</td>\n",
       "      <td>28.96</td>\n",
       "      <td>3.77</td>\n",
       "      <td>8.45</td>\n",
       "      <td>76.0</td>\n",
       "      <td>8</td>\n",
       "      <td>E</td>\n",
       "      <td>82.54</td>\n",
       "    </tr>\n",
       "    <tr>\n",
       "      <td>1</td>\n",
       "      <td>Super Mario Bros.</td>\n",
       "      <td>NES</td>\n",
       "      <td>1985.0</td>\n",
       "      <td>Platform</td>\n",
       "      <td>29.08</td>\n",
       "      <td>3.58</td>\n",
       "      <td>6.81</td>\n",
       "      <td>0.77</td>\n",
       "      <td>NaN</td>\n",
       "      <td>NaN</td>\n",
       "      <td>NaN</td>\n",
       "      <td>40.24</td>\n",
       "    </tr>\n",
       "    <tr>\n",
       "      <td>2</td>\n",
       "      <td>Mario Kart Wii</td>\n",
       "      <td>Wii</td>\n",
       "      <td>2008.0</td>\n",
       "      <td>Racing</td>\n",
       "      <td>15.68</td>\n",
       "      <td>12.76</td>\n",
       "      <td>3.79</td>\n",
       "      <td>3.29</td>\n",
       "      <td>82.0</td>\n",
       "      <td>8.3</td>\n",
       "      <td>E</td>\n",
       "      <td>35.52</td>\n",
       "    </tr>\n",
       "    <tr>\n",
       "      <td>3</td>\n",
       "      <td>Wii Sports Resort</td>\n",
       "      <td>Wii</td>\n",
       "      <td>2009.0</td>\n",
       "      <td>Sports</td>\n",
       "      <td>15.61</td>\n",
       "      <td>10.93</td>\n",
       "      <td>3.28</td>\n",
       "      <td>2.95</td>\n",
       "      <td>80.0</td>\n",
       "      <td>8</td>\n",
       "      <td>E</td>\n",
       "      <td>32.77</td>\n",
       "    </tr>\n",
       "    <tr>\n",
       "      <td>4</td>\n",
       "      <td>Pokemon Red/Pokemon Blue</td>\n",
       "      <td>GB</td>\n",
       "      <td>1996.0</td>\n",
       "      <td>Role-Playing</td>\n",
       "      <td>11.27</td>\n",
       "      <td>8.89</td>\n",
       "      <td>10.22</td>\n",
       "      <td>1.00</td>\n",
       "      <td>NaN</td>\n",
       "      <td>NaN</td>\n",
       "      <td>NaN</td>\n",
       "      <td>31.38</td>\n",
       "    </tr>\n",
       "    <tr>\n",
       "      <td>...</td>\n",
       "      <td>...</td>\n",
       "      <td>...</td>\n",
       "      <td>...</td>\n",
       "      <td>...</td>\n",
       "      <td>...</td>\n",
       "      <td>...</td>\n",
       "      <td>...</td>\n",
       "      <td>...</td>\n",
       "      <td>...</td>\n",
       "      <td>...</td>\n",
       "      <td>...</td>\n",
       "      <td>...</td>\n",
       "    </tr>\n",
       "    <tr>\n",
       "      <td>16710</td>\n",
       "      <td>Samurai Warriors: Sanada Maru</td>\n",
       "      <td>PS3</td>\n",
       "      <td>2016.0</td>\n",
       "      <td>Action</td>\n",
       "      <td>0.00</td>\n",
       "      <td>0.00</td>\n",
       "      <td>0.01</td>\n",
       "      <td>0.00</td>\n",
       "      <td>NaN</td>\n",
       "      <td>NaN</td>\n",
       "      <td>NaN</td>\n",
       "      <td>0.01</td>\n",
       "    </tr>\n",
       "    <tr>\n",
       "      <td>16711</td>\n",
       "      <td>LMA Manager 2007</td>\n",
       "      <td>X360</td>\n",
       "      <td>2006.0</td>\n",
       "      <td>Sports</td>\n",
       "      <td>0.00</td>\n",
       "      <td>0.01</td>\n",
       "      <td>0.00</td>\n",
       "      <td>0.00</td>\n",
       "      <td>NaN</td>\n",
       "      <td>NaN</td>\n",
       "      <td>NaN</td>\n",
       "      <td>0.01</td>\n",
       "    </tr>\n",
       "    <tr>\n",
       "      <td>16712</td>\n",
       "      <td>Haitaka no Psychedelica</td>\n",
       "      <td>PSV</td>\n",
       "      <td>2016.0</td>\n",
       "      <td>Adventure</td>\n",
       "      <td>0.00</td>\n",
       "      <td>0.00</td>\n",
       "      <td>0.01</td>\n",
       "      <td>0.00</td>\n",
       "      <td>NaN</td>\n",
       "      <td>NaN</td>\n",
       "      <td>NaN</td>\n",
       "      <td>0.01</td>\n",
       "    </tr>\n",
       "    <tr>\n",
       "      <td>16713</td>\n",
       "      <td>Spirits &amp; Spells</td>\n",
       "      <td>GBA</td>\n",
       "      <td>2003.0</td>\n",
       "      <td>Platform</td>\n",
       "      <td>0.01</td>\n",
       "      <td>0.00</td>\n",
       "      <td>0.00</td>\n",
       "      <td>0.00</td>\n",
       "      <td>NaN</td>\n",
       "      <td>NaN</td>\n",
       "      <td>NaN</td>\n",
       "      <td>0.01</td>\n",
       "    </tr>\n",
       "    <tr>\n",
       "      <td>16714</td>\n",
       "      <td>Winning Post 8 2016</td>\n",
       "      <td>PSV</td>\n",
       "      <td>2016.0</td>\n",
       "      <td>Simulation</td>\n",
       "      <td>0.00</td>\n",
       "      <td>0.00</td>\n",
       "      <td>0.01</td>\n",
       "      <td>0.00</td>\n",
       "      <td>NaN</td>\n",
       "      <td>NaN</td>\n",
       "      <td>NaN</td>\n",
       "      <td>0.01</td>\n",
       "    </tr>\n",
       "  </tbody>\n",
       "</table>\n",
       "<p>16715 rows × 12 columns</p>\n",
       "</div>"
      ],
      "text/plain": [
       "                                name platform  year_of_release         genre  \\\n",
       "0                         Wii Sports      Wii           2006.0        Sports   \n",
       "1                  Super Mario Bros.      NES           1985.0      Platform   \n",
       "2                     Mario Kart Wii      Wii           2008.0        Racing   \n",
       "3                  Wii Sports Resort      Wii           2009.0        Sports   \n",
       "4           Pokemon Red/Pokemon Blue       GB           1996.0  Role-Playing   \n",
       "...                              ...      ...              ...           ...   \n",
       "16710  Samurai Warriors: Sanada Maru      PS3           2016.0        Action   \n",
       "16711               LMA Manager 2007     X360           2006.0        Sports   \n",
       "16712        Haitaka no Psychedelica      PSV           2016.0     Adventure   \n",
       "16713               Spirits & Spells      GBA           2003.0      Platform   \n",
       "16714            Winning Post 8 2016      PSV           2016.0    Simulation   \n",
       "\n",
       "       na_sales  eu_sales  jp_sales  other_sales  critic_score user_score  \\\n",
       "0         41.36     28.96      3.77         8.45          76.0          8   \n",
       "1         29.08      3.58      6.81         0.77           NaN        NaN   \n",
       "2         15.68     12.76      3.79         3.29          82.0        8.3   \n",
       "3         15.61     10.93      3.28         2.95          80.0          8   \n",
       "4         11.27      8.89     10.22         1.00           NaN        NaN   \n",
       "...         ...       ...       ...          ...           ...        ...   \n",
       "16710      0.00      0.00      0.01         0.00           NaN        NaN   \n",
       "16711      0.00      0.01      0.00         0.00           NaN        NaN   \n",
       "16712      0.00      0.00      0.01         0.00           NaN        NaN   \n",
       "16713      0.01      0.00      0.00         0.00           NaN        NaN   \n",
       "16714      0.00      0.00      0.01         0.00           NaN        NaN   \n",
       "\n",
       "      rating  total_sales  \n",
       "0          E        82.54  \n",
       "1        NaN        40.24  \n",
       "2          E        35.52  \n",
       "3          E        32.77  \n",
       "4        NaN        31.38  \n",
       "...      ...          ...  \n",
       "16710    NaN         0.01  \n",
       "16711    NaN         0.01  \n",
       "16712    NaN         0.01  \n",
       "16713    NaN         0.01  \n",
       "16714    NaN         0.01  \n",
       "\n",
       "[16715 rows x 12 columns]"
      ]
     },
     "metadata": {},
     "output_type": "display_data"
    }
   ],
   "source": [
    "games['total_sales']=games['na_sales']+games['eu_sales']+games['jp_sales']+games['other_sales']\n",
    "display(games)"
   ]
  },
  {
   "cell_type": "markdown",
   "metadata": {},
   "source": [
    "В столбце с пользовательскими оценками есть значение tbd или to be determined. Оно означает, что пользовательских оценок пока недостаточно для формирования рейтинга.\n",
    "\n",
    "Фактически это означает отсутствие рейтинга. Поменяем tbd на нуль, чтобы можно было перевести значения столбца в числовые.\n",
    "\n",
    "Также пропущены значения в столбце с возрастным рейтингом игр. Возможно, некоторые игры не получали этот рейтинг, потому что он не является обязательным в некоторых странах. Поменяем пропущенные значения на \"no data\""
   ]
  },
  {
   "cell_type": "code",
   "execution_count": 5,
   "metadata": {},
   "outputs": [],
   "source": [
    "games['user_score'] = games['user_score'].replace(to_replace='tbd',value=0)\n",
    "games['user_score']=pd.to_numeric(games['user_score'])\n",
    "\n",
    "games['rating']=games['rating'].fillna('no data')\n"
   ]
  },
  {
   "cell_type": "markdown",
   "metadata": {},
   "source": [
    "Есть также пропущенные значения в столбцах с названием игры и годом выпуска. Посмотрим, какую долю от общего числа значений они занимают. Если небольшую, удалим строки с пропущенными значениями.\n",
    "\n",
    "Остальные пропущенные значения заменим на нули."
   ]
  },
  {
   "cell_type": "code",
   "execution_count": 6,
   "metadata": {},
   "outputs": [
    {
     "name": "stdout",
     "output_type": "stream",
     "text": [
      "Доля продаж, приходящихся на строки с пропушенным годом и названием игры: 1.1366453148431253\n",
      "<class 'pandas.core.frame.DataFrame'>\n",
      "Int64Index: 16444 entries, 0 to 16714\n",
      "Data columns (total 12 columns):\n",
      "name               16444 non-null object\n",
      "platform           16444 non-null object\n",
      "year_of_release    16444 non-null float64\n",
      "genre              16444 non-null object\n",
      "na_sales           16444 non-null float64\n",
      "eu_sales           16444 non-null float64\n",
      "jp_sales           16444 non-null float64\n",
      "other_sales        16444 non-null float64\n",
      "critic_score       7983 non-null float64\n",
      "user_score         9839 non-null float64\n",
      "rating             16444 non-null object\n",
      "total_sales        16444 non-null float64\n",
      "dtypes: float64(8), object(4)\n",
      "memory usage: 1.6+ MB\n",
      "<class 'pandas.core.frame.DataFrame'>\n",
      "Int64Index: 16444 entries, 0 to 16714\n",
      "Data columns (total 12 columns):\n",
      "name               16444 non-null object\n",
      "platform           16444 non-null object\n",
      "year_of_release    16444 non-null float64\n",
      "genre              16444 non-null object\n",
      "na_sales           16444 non-null float64\n",
      "eu_sales           16444 non-null float64\n",
      "jp_sales           16444 non-null float64\n",
      "other_sales        16444 non-null float64\n",
      "critic_score       16444 non-null float64\n",
      "user_score         16444 non-null float64\n",
      "rating             16444 non-null object\n",
      "total_sales        16444 non-null float64\n",
      "dtypes: float64(8), object(4)\n",
      "memory usage: 1.6+ MB\n"
     ]
    },
    {
     "data": {
      "text/plain": [
       "0.0    8982\n",
       "7.8     322\n",
       "8.0     285\n",
       "8.2     276\n",
       "8.3     252\n",
       "       ... \n",
       "2.3       2\n",
       "0.9       2\n",
       "0.7       2\n",
       "9.6       2\n",
       "9.7       1\n",
       "Name: user_score, Length: 95, dtype: int64"
      ]
     },
     "metadata": {},
     "output_type": "display_data"
    },
    {
     "data": {
      "text/plain": [
       "0.0     8461\n",
       "70.0     252\n",
       "71.0     248\n",
       "75.0     240\n",
       "80.0     235\n",
       "        ... \n",
       "20.0       3\n",
       "29.0       3\n",
       "17.0       1\n",
       "21.0       1\n",
       "13.0       1\n",
       "Name: critic_score, Length: 82, dtype: int64"
      ]
     },
     "metadata": {},
     "output_type": "display_data"
    }
   ],
   "source": [
    "null_columns=games.columns[games.isnull().any()]\n",
    "games[null_columns].isnull().sum()\n",
    "\n",
    "null_game=games.query('name != name | year_of_release != year_of_release')\n",
    "a=null_game['total_sales'].sum()\n",
    "b=games['total_sales'].sum()\n",
    "print('Доля продаж, приходящихся на строки с пропушенным годом и названием игры:', a*100/b)\n",
    "\n",
    "games=games.dropna(subset=['name', 'year_of_release'])\n",
    "games.info()\n",
    "\n",
    "games=games.fillna(0)\n",
    "games.info()\n",
    "\n",
    "display(games['user_score'].value_counts())\n",
    "display(games['critic_score'].value_counts())"
   ]
  },
  {
   "cell_type": "markdown",
   "metadata": {},
   "source": [
    "## Вывод\n",
    "\n",
    "Мы подготовили таблицу к анализу. Мы удалили строки, где пропущено название игры и год выпуска игры.\n",
    "Остальные пропущенные значения заменили на \"нет данных\" или нули, чтобы можно было обращаться с этим столбцом как числовым.\n",
    "\n",
    "Мы подсчитали сумму общих продаж каждой игры."
   ]
  },
  {
   "cell_type": "markdown",
   "metadata": {},
   "source": [
    "<a id='the_destination3'></a>\n",
    "## Сколько игр продается больше одного года"
   ]
  },
  {
   "cell_type": "markdown",
   "metadata": {},
   "source": [
    "В нашем датасете есть данные о выходе игры, но нет данных о дате продаж. Эта информация есть на сайте, который служил перовисточников для нашего датасета. Попробуем проанализировать данные оттуда, чтобы понять, какая доля игр продается больше одного года. https://www.vgchartz.com/yearly/2015/Global/\n",
    "\n",
    "Мы спарсили данные о продажах игр по годам. Мы пользовались сервисом WebArchive, кэширующим данные сайтов, чтобы данные нашего основного датасета и нового были опубликованы примерно в одно время."
   ]
  },
  {
   "cell_type": "markdown",
   "metadata": {},
   "source": [
    "Изучим, как распределены продажи игр по годам в 2005-2020 годах. В нашей новой таблице приведены данные о продажах игр для определенных платформ по годам. Там есть данные о продаже за изучаемый год и общие продажи. Столбец all_one_year маркирует игры, продажи которых происходили больше одного года."
   ]
  },
  {
   "cell_type": "code",
   "execution_count": 7,
   "metadata": {},
   "outputs": [
    {
     "data": {
      "text/html": [
       "<div>\n",
       "<style scoped>\n",
       "    .dataframe tbody tr th:only-of-type {\n",
       "        vertical-align: middle;\n",
       "    }\n",
       "\n",
       "    .dataframe tbody tr th {\n",
       "        vertical-align: top;\n",
       "    }\n",
       "\n",
       "    .dataframe thead th {\n",
       "        text-align: right;\n",
       "    }\n",
       "</style>\n",
       "<table border=\"1\" class=\"dataframe\">\n",
       "  <thead>\n",
       "    <tr style=\"text-align: right;\">\n",
       "      <th></th>\n",
       "      <th>year_of_sales</th>\n",
       "      <th>name/platform</th>\n",
       "      <th>genre</th>\n",
       "      <th>yearly</th>\n",
       "      <th>total</th>\n",
       "      <th>all_one_year</th>\n",
       "    </tr>\n",
       "  </thead>\n",
       "  <tbody>\n",
       "    <tr>\n",
       "      <td>1100</td>\n",
       "      <td>2016</td>\n",
       "      <td>Pokemon Sun/Moon/3DS</td>\n",
       "      <td>Role-Playing</td>\n",
       "      <td>12034530</td>\n",
       "      <td>12034530.0</td>\n",
       "      <td>True</td>\n",
       "    </tr>\n",
       "    <tr>\n",
       "      <td>1101</td>\n",
       "      <td>2016</td>\n",
       "      <td>FIFA 17/PS4</td>\n",
       "      <td>Sports</td>\n",
       "      <td>9581584</td>\n",
       "      <td>9581584.0</td>\n",
       "      <td>True</td>\n",
       "    </tr>\n",
       "    <tr>\n",
       "      <td>1102</td>\n",
       "      <td>2016</td>\n",
       "      <td>Uncharted/PS4</td>\n",
       "      <td>Action</td>\n",
       "      <td>8298741</td>\n",
       "      <td>8298741.0</td>\n",
       "      <td>True</td>\n",
       "    </tr>\n",
       "    <tr>\n",
       "      <td>1103</td>\n",
       "      <td>2016</td>\n",
       "      <td>Call of Duty: Infinite Warfare/PS4</td>\n",
       "      <td>Shooter</td>\n",
       "      <td>6195297</td>\n",
       "      <td>6195297.0</td>\n",
       "      <td>True</td>\n",
       "    </tr>\n",
       "    <tr>\n",
       "      <td>1104</td>\n",
       "      <td>2016</td>\n",
       "      <td>Battlefield 1/PS4</td>\n",
       "      <td>Shooter</td>\n",
       "      <td>5961774</td>\n",
       "      <td>5961774.0</td>\n",
       "      <td>True</td>\n",
       "    </tr>\n",
       "    <tr>\n",
       "      <td>1105</td>\n",
       "      <td>2016</td>\n",
       "      <td>Battlefield 1/XOne</td>\n",
       "      <td>Shooter</td>\n",
       "      <td>4219657</td>\n",
       "      <td>4219657.0</td>\n",
       "      <td>True</td>\n",
       "    </tr>\n",
       "    <tr>\n",
       "      <td>1106</td>\n",
       "      <td>2016</td>\n",
       "      <td>Grand Theft Auto V/PS4</td>\n",
       "      <td>Action</td>\n",
       "      <td>4104297</td>\n",
       "      <td>13637345.0</td>\n",
       "      <td>False</td>\n",
       "    </tr>\n",
       "    <tr>\n",
       "      <td>1107</td>\n",
       "      <td>2016</td>\n",
       "      <td>Call of Duty: Black Ops 3/PS4</td>\n",
       "      <td>Shooter</td>\n",
       "      <td>4035701</td>\n",
       "      <td>14494243.0</td>\n",
       "      <td>False</td>\n",
       "    </tr>\n",
       "    <tr>\n",
       "      <td>1108</td>\n",
       "      <td>2016</td>\n",
       "      <td>Tom Clancy's The Division/PS4</td>\n",
       "      <td>Misc</td>\n",
       "      <td>4029849</td>\n",
       "      <td>4029849.0</td>\n",
       "      <td>True</td>\n",
       "    </tr>\n",
       "    <tr>\n",
       "      <td>1109</td>\n",
       "      <td>2016</td>\n",
       "      <td>Final Fantasy XV/PS4</td>\n",
       "      <td>Role-Playing</td>\n",
       "      <td>3917803</td>\n",
       "      <td>3917803.0</td>\n",
       "      <td>True</td>\n",
       "    </tr>\n",
       "    <tr>\n",
       "      <td>1110</td>\n",
       "      <td>2016</td>\n",
       "      <td>Call of Duty: Infinite Warfare/XOne</td>\n",
       "      <td>Shooter</td>\n",
       "      <td>3869585</td>\n",
       "      <td>3869585.0</td>\n",
       "      <td>True</td>\n",
       "    </tr>\n",
       "    <tr>\n",
       "      <td>1111</td>\n",
       "      <td>2016</td>\n",
       "      <td>FIFA 17/XOne</td>\n",
       "      <td>Sports</td>\n",
       "      <td>3238673</td>\n",
       "      <td>3238673.0</td>\n",
       "      <td>True</td>\n",
       "    </tr>\n",
       "    <tr>\n",
       "      <td>1112</td>\n",
       "      <td>2016</td>\n",
       "      <td>Madden NFL 17/PS4</td>\n",
       "      <td>Sports</td>\n",
       "      <td>2668159</td>\n",
       "      <td>2668159.0</td>\n",
       "      <td>True</td>\n",
       "    </tr>\n",
       "    <tr>\n",
       "      <td>1113</td>\n",
       "      <td>2016</td>\n",
       "      <td>Gears of War 4/XOne</td>\n",
       "      <td>Shooter</td>\n",
       "      <td>2657164</td>\n",
       "      <td>2657164.0</td>\n",
       "      <td>True</td>\n",
       "    </tr>\n",
       "    <tr>\n",
       "      <td>1114</td>\n",
       "      <td>2016</td>\n",
       "      <td>Overwatch/PS4</td>\n",
       "      <td>Shooter</td>\n",
       "      <td>2649616</td>\n",
       "      <td>2649616.0</td>\n",
       "      <td>True</td>\n",
       "    </tr>\n",
       "    <tr>\n",
       "      <td>1115</td>\n",
       "      <td>2016</td>\n",
       "      <td>NBA 2K17/PS4</td>\n",
       "      <td>Sports</td>\n",
       "      <td>2617029</td>\n",
       "      <td>2617029.0</td>\n",
       "      <td>True</td>\n",
       "    </tr>\n",
       "    <tr>\n",
       "      <td>1116</td>\n",
       "      <td>2016</td>\n",
       "      <td>Watch Dogs 2/PS4</td>\n",
       "      <td>Action</td>\n",
       "      <td>2450658</td>\n",
       "      <td>2450658.0</td>\n",
       "      <td>True</td>\n",
       "    </tr>\n",
       "    <tr>\n",
       "      <td>1117</td>\n",
       "      <td>2016</td>\n",
       "      <td>Far Cry: Primal/PS4</td>\n",
       "      <td>Action</td>\n",
       "      <td>2422715</td>\n",
       "      <td>2422715.0</td>\n",
       "      <td>True</td>\n",
       "    </tr>\n",
       "    <tr>\n",
       "      <td>1118</td>\n",
       "      <td>2016</td>\n",
       "      <td>Tom Clancy's The Division/XOne</td>\n",
       "      <td>Misc</td>\n",
       "      <td>2377695</td>\n",
       "      <td>2377695.0</td>\n",
       "      <td>True</td>\n",
       "    </tr>\n",
       "    <tr>\n",
       "      <td>1119</td>\n",
       "      <td>2016</td>\n",
       "      <td>Mafia III/PS4</td>\n",
       "      <td>Action</td>\n",
       "      <td>2221814</td>\n",
       "      <td>2221814.0</td>\n",
       "      <td>True</td>\n",
       "    </tr>\n",
       "    <tr>\n",
       "      <td>1120</td>\n",
       "      <td>2016</td>\n",
       "      <td>Pokemon Omega Ruby/Pokemon Alpha Sapphire/3DS</td>\n",
       "      <td>Misc</td>\n",
       "      <td>2141977</td>\n",
       "      <td>12108626.0</td>\n",
       "      <td>False</td>\n",
       "    </tr>\n",
       "    <tr>\n",
       "      <td>1121</td>\n",
       "      <td>2016</td>\n",
       "      <td>The Elder Scrolls V: Skyrim/PS4</td>\n",
       "      <td>Role-Playing</td>\n",
       "      <td>2090922</td>\n",
       "      <td>2090922.0</td>\n",
       "      <td>True</td>\n",
       "    </tr>\n",
       "    <tr>\n",
       "      <td>1122</td>\n",
       "      <td>2016</td>\n",
       "      <td>Madden NFL 17/XOne</td>\n",
       "      <td>Sports</td>\n",
       "      <td>2024006</td>\n",
       "      <td>2024006.0</td>\n",
       "      <td>True</td>\n",
       "    </tr>\n",
       "    <tr>\n",
       "      <td>1123</td>\n",
       "      <td>2016</td>\n",
       "      <td>Ratchet &amp; Clank/2016</td>\n",
       "      <td>Platform</td>\n",
       "      <td>1971283</td>\n",
       "      <td>1971283.0</td>\n",
       "      <td>True</td>\n",
       "    </tr>\n",
       "    <tr>\n",
       "      <td>1124</td>\n",
       "      <td>2016</td>\n",
       "      <td>Forza Horizon 3/XOne</td>\n",
       "      <td>Racing</td>\n",
       "      <td>1931855</td>\n",
       "      <td>1931855.0</td>\n",
       "      <td>True</td>\n",
       "    </tr>\n",
       "  </tbody>\n",
       "</table>\n",
       "</div>"
      ],
      "text/plain": [
       "      year_of_sales                                  name/platform  \\\n",
       "1100           2016                           Pokemon Sun/Moon/3DS   \n",
       "1101           2016                                    FIFA 17/PS4   \n",
       "1102           2016                                  Uncharted/PS4   \n",
       "1103           2016             Call of Duty: Infinite Warfare/PS4   \n",
       "1104           2016                              Battlefield 1/PS4   \n",
       "1105           2016                             Battlefield 1/XOne   \n",
       "1106           2016                         Grand Theft Auto V/PS4   \n",
       "1107           2016                  Call of Duty: Black Ops 3/PS4   \n",
       "1108           2016                  Tom Clancy's The Division/PS4   \n",
       "1109           2016                           Final Fantasy XV/PS4   \n",
       "1110           2016            Call of Duty: Infinite Warfare/XOne   \n",
       "1111           2016                                   FIFA 17/XOne   \n",
       "1112           2016                              Madden NFL 17/PS4   \n",
       "1113           2016                            Gears of War 4/XOne   \n",
       "1114           2016                                  Overwatch/PS4   \n",
       "1115           2016                                   NBA 2K17/PS4   \n",
       "1116           2016                               Watch Dogs 2/PS4   \n",
       "1117           2016                            Far Cry: Primal/PS4   \n",
       "1118           2016                 Tom Clancy's The Division/XOne   \n",
       "1119           2016                                  Mafia III/PS4   \n",
       "1120           2016  Pokemon Omega Ruby/Pokemon Alpha Sapphire/3DS   \n",
       "1121           2016                The Elder Scrolls V: Skyrim/PS4   \n",
       "1122           2016                             Madden NFL 17/XOne   \n",
       "1123           2016                           Ratchet & Clank/2016   \n",
       "1124           2016                           Forza Horizon 3/XOne   \n",
       "\n",
       "              genre    yearly       total  all_one_year  \n",
       "1100   Role-Playing  12034530  12034530.0          True  \n",
       "1101         Sports   9581584   9581584.0          True  \n",
       "1102         Action   8298741   8298741.0          True  \n",
       "1103        Shooter   6195297   6195297.0          True  \n",
       "1104        Shooter   5961774   5961774.0          True  \n",
       "1105        Shooter   4219657   4219657.0          True  \n",
       "1106         Action   4104297  13637345.0         False  \n",
       "1107        Shooter   4035701  14494243.0         False  \n",
       "1108           Misc   4029849   4029849.0          True  \n",
       "1109   Role-Playing   3917803   3917803.0          True  \n",
       "1110        Shooter   3869585   3869585.0          True  \n",
       "1111         Sports   3238673   3238673.0          True  \n",
       "1112         Sports   2668159   2668159.0          True  \n",
       "1113        Shooter   2657164   2657164.0          True  \n",
       "1114        Shooter   2649616   2649616.0          True  \n",
       "1115         Sports   2617029   2617029.0          True  \n",
       "1116         Action   2450658   2450658.0          True  \n",
       "1117         Action   2422715   2422715.0          True  \n",
       "1118           Misc   2377695   2377695.0          True  \n",
       "1119         Action   2221814   2221814.0          True  \n",
       "1120           Misc   2141977  12108626.0         False  \n",
       "1121   Role-Playing   2090922   2090922.0          True  \n",
       "1122         Sports   2024006   2024006.0          True  \n",
       "1123       Platform   1971283   1971283.0          True  \n",
       "1124         Racing   1931855   1931855.0          True  "
      ]
     },
     "metadata": {},
     "output_type": "display_data"
    },
    {
     "name": "stdout",
     "output_type": "stream",
     "text": [
      "<class 'pandas.core.frame.DataFrame'>\n",
      "RangeIndex: 1500 entries, 0 to 1499\n",
      "Data columns (total 6 columns):\n",
      "year_of_sales    1500 non-null int64\n",
      "name/platform    1500 non-null object\n",
      "genre            1500 non-null object\n",
      "yearly           1500 non-null int64\n",
      "total            1491 non-null float64\n",
      "all_one_year     1500 non-null bool\n",
      "dtypes: bool(1), float64(1), int64(2), object(2)\n",
      "memory usage: 60.2+ KB\n"
     ]
    }
   ],
   "source": [
    "games2 = pd.read_csv('gamesales.csv')\n",
    "display(games2.query('year_of_sales==\"2016\"').sort_values(by='yearly', ascending=False).head(25))\n",
    "games2.info()"
   ]
  },
  {
   "cell_type": "markdown",
   "metadata": {},
   "source": []
  },
  {
   "cell_type": "markdown",
   "metadata": {},
   "source": [
    "Посмотрим, какая доля игр полностью продается за один год, а какая - за несколько."
   ]
  },
  {
   "cell_type": "code",
   "execution_count": 8,
   "metadata": {},
   "outputs": [
    {
     "data": {
      "text/html": [
       "<div>\n",
       "<style scoped>\n",
       "    .dataframe tbody tr th:only-of-type {\n",
       "        vertical-align: middle;\n",
       "    }\n",
       "\n",
       "    .dataframe tbody tr th {\n",
       "        vertical-align: top;\n",
       "    }\n",
       "\n",
       "    .dataframe thead th {\n",
       "        text-align: right;\n",
       "    }\n",
       "</style>\n",
       "<table border=\"1\" class=\"dataframe\">\n",
       "  <thead>\n",
       "    <tr style=\"text-align: right;\">\n",
       "      <th></th>\n",
       "      <th>year_of_sales</th>\n",
       "      <th>name/platform</th>\n",
       "      <th>genre</th>\n",
       "      <th>yearly</th>\n",
       "      <th>total</th>\n",
       "      <th>all_one_year</th>\n",
       "      <th>percent_first_year</th>\n",
       "    </tr>\n",
       "  </thead>\n",
       "  <tbody>\n",
       "    <tr>\n",
       "      <td>0</td>\n",
       "      <td>2005</td>\n",
       "      <td>Nintendogs/DS</td>\n",
       "      <td>Simulation</td>\n",
       "      <td>4722694</td>\n",
       "      <td>4722694.0</td>\n",
       "      <td>True</td>\n",
       "      <td>100</td>\n",
       "    </tr>\n",
       "    <tr>\n",
       "      <td>1</td>\n",
       "      <td>2005</td>\n",
       "      <td>Mario Kart DS/DS</td>\n",
       "      <td>Racing</td>\n",
       "      <td>2775296</td>\n",
       "      <td>2775296.0</td>\n",
       "      <td>True</td>\n",
       "      <td>100</td>\n",
       "    </tr>\n",
       "    <tr>\n",
       "      <td>2</td>\n",
       "      <td>2005</td>\n",
       "      <td>Grand Theft Auto: Liberty City Stories/PSP</td>\n",
       "      <td>Action</td>\n",
       "      <td>2132118</td>\n",
       "      <td>2132118.0</td>\n",
       "      <td>True</td>\n",
       "      <td>100</td>\n",
       "    </tr>\n",
       "    <tr>\n",
       "      <td>3</td>\n",
       "      <td>2005</td>\n",
       "      <td>Super Mario 64 DS/DS</td>\n",
       "      <td>Platform</td>\n",
       "      <td>2029244</td>\n",
       "      <td>3275320.0</td>\n",
       "      <td>False</td>\n",
       "      <td>61</td>\n",
       "    </tr>\n",
       "    <tr>\n",
       "      <td>4</td>\n",
       "      <td>2005</td>\n",
       "      <td>Animal Crossing: Wild World/DS</td>\n",
       "      <td>Simulation</td>\n",
       "      <td>1699892</td>\n",
       "      <td>1699892.0</td>\n",
       "      <td>True</td>\n",
       "      <td>100</td>\n",
       "    </tr>\n",
       "    <tr>\n",
       "      <td>...</td>\n",
       "      <td>...</td>\n",
       "      <td>...</td>\n",
       "      <td>...</td>\n",
       "      <td>...</td>\n",
       "      <td>...</td>\n",
       "      <td>...</td>\n",
       "      <td>...</td>\n",
       "    </tr>\n",
       "    <tr>\n",
       "      <td>1495</td>\n",
       "      <td>2019</td>\n",
       "      <td>Farming Simulator 19/PC</td>\n",
       "      <td>Simulation</td>\n",
       "      <td>583425</td>\n",
       "      <td>583425.0</td>\n",
       "      <td>True</td>\n",
       "      <td>100</td>\n",
       "    </tr>\n",
       "    <tr>\n",
       "      <td>1496</td>\n",
       "      <td>2019</td>\n",
       "      <td>Bayonetta 2/NS</td>\n",
       "      <td>Action</td>\n",
       "      <td>573643</td>\n",
       "      <td>573643.0</td>\n",
       "      <td>True</td>\n",
       "      <td>100</td>\n",
       "    </tr>\n",
       "    <tr>\n",
       "      <td>1497</td>\n",
       "      <td>2019</td>\n",
       "      <td>Fallout 4/PS4</td>\n",
       "      <td>Role-Playing</td>\n",
       "      <td>568545</td>\n",
       "      <td>8480129.0</td>\n",
       "      <td>False</td>\n",
       "      <td>6</td>\n",
       "    </tr>\n",
       "    <tr>\n",
       "      <td>1498</td>\n",
       "      <td>2019</td>\n",
       "      <td>Starlink: Battle for Atlas/NS</td>\n",
       "      <td>Action-Adventure</td>\n",
       "      <td>567755</td>\n",
       "      <td>567755.0</td>\n",
       "      <td>True</td>\n",
       "      <td>100</td>\n",
       "    </tr>\n",
       "    <tr>\n",
       "      <td>1499</td>\n",
       "      <td>2019</td>\n",
       "      <td>Assassin's Creed Origins/XOne</td>\n",
       "      <td>Action</td>\n",
       "      <td>560485</td>\n",
       "      <td>2474124.0</td>\n",
       "      <td>False</td>\n",
       "      <td>22</td>\n",
       "    </tr>\n",
       "  </tbody>\n",
       "</table>\n",
       "<p>1491 rows × 7 columns</p>\n",
       "</div>"
      ],
      "text/plain": [
       "      year_of_sales                               name/platform  \\\n",
       "0              2005                               Nintendogs/DS   \n",
       "1              2005                            Mario Kart DS/DS   \n",
       "2              2005  Grand Theft Auto: Liberty City Stories/PSP   \n",
       "3              2005                        Super Mario 64 DS/DS   \n",
       "4              2005              Animal Crossing: Wild World/DS   \n",
       "...             ...                                         ...   \n",
       "1495           2019                     Farming Simulator 19/PC   \n",
       "1496           2019                              Bayonetta 2/NS   \n",
       "1497           2019                               Fallout 4/PS4   \n",
       "1498           2019               Starlink: Battle for Atlas/NS   \n",
       "1499           2019               Assassin's Creed Origins/XOne   \n",
       "\n",
       "                  genre   yearly      total  all_one_year  percent_first_year  \n",
       "0            Simulation  4722694  4722694.0          True                 100  \n",
       "1                Racing  2775296  2775296.0          True                 100  \n",
       "2                Action  2132118  2132118.0          True                 100  \n",
       "3              Platform  2029244  3275320.0         False                  61  \n",
       "4            Simulation  1699892  1699892.0          True                 100  \n",
       "...                 ...      ...        ...           ...                 ...  \n",
       "1495         Simulation   583425   583425.0          True                 100  \n",
       "1496             Action   573643   573643.0          True                 100  \n",
       "1497       Role-Playing   568545  8480129.0         False                   6  \n",
       "1498   Action-Adventure   567755   567755.0          True                 100  \n",
       "1499             Action   560485  2474124.0         False                  22  \n",
       "\n",
       "[1491 rows x 7 columns]"
      ]
     },
     "metadata": {},
     "output_type": "display_data"
    }
   ],
   "source": [
    "games2['percent_first_year']=games2['yearly']*100/games2['total']\n",
    "games2=games2.dropna(subset=['percent_first_year'])\n",
    "games2['percent_first_year']=games2['percent_first_year'].astype(int)\n",
    "\n",
    "display(games2)"
   ]
  },
  {
   "cell_type": "code",
   "execution_count": 9,
   "metadata": {
    "scrolled": false
   },
   "outputs": [
    {
     "name": "stdout",
     "output_type": "stream",
     "text": [
      "Доля игр, продаваемых только один год (из тех, что продавались в 2005-2020 годах): 63\n"
     ]
    },
    {
     "data": {
      "text/plain": [
       "Text(0.5, 1.0, 'Какая доля продаж игр приходится на изучаемый год, %. На основе данных за 2005-2020 годы, %')"
      ]
     },
     "execution_count": 9,
     "metadata": {},
     "output_type": "execute_result"
    },
    {
     "data": {
      "image/png": "[encoded data removed]",
      "text/plain": [
       "<Figure size 576x288 with 1 Axes>"
      ]
     },
     "metadata": {
      "needs_background": "light"
     },
     "output_type": "display_data"
    }
   ],
   "source": [
    "games2['percent_first_year'].hist(figsize=(8,4), bins=50)\n",
    "\n",
    "prc=len(games2.query('percent_first_year==100'))\n",
    "prc2=prc*100/len(games2)\n",
    "prc2=pd.to_numeric(prc2)\n",
    "print(\"Доля игр, продаваемых только один год (из тех, что продавались в 2005-2020 годах):\", int(prc2))\n",
    "\n",
    "title_string = \"Какая доля продаж игр приходится на изучаемый год, %. На основе данных за 2005-2020 годы, %\"\n",
    "plt.ylabel('Число игр')\n",
    "plt.xlabel('%')\n",
    "\n",
    "plt.title(title_string)\n"
   ]
  },
  {
   "cell_type": "markdown",
   "metadata": {},
   "source": [
    "Мы видим, что из тех игр, что пользователи покупали в изученные годы, 63% продавались только в течение одного года.\n",
    "\n",
    "Но, например, Grand Theft Auto V для PS4, вышедший в 2014 году, и Call of Duty: Infinite Warfare для XOne, вышедший в 2016 году, пользовались популярностью больше одного года. И хотя разумнее всего рекламировать игру перед и сразу после релиза, когда цены на нее и спрос максимальные, в случае выхода dlc (нового платного контента, дополняющего игру), можно дать рекламу еще раз, таргетируя ее на заинтересованных в игре пользователей.\n",
    "\n",
    "Можно было бы выгрузить с помощью Web Archive данные за 22 декабря, когда был выгружен основной датасет, но не удалось подобрать дату, когда они на 100% соответстветствовали бы. В следующий раз можно выгружать эти данные вместе."
   ]
  },
  {
   "cell_type": "markdown",
   "metadata": {},
   "source": [
    "<a id='the_destination4'></a>\n",
    "## Как продавались игры в разные годы"
   ]
  },
  {
   "cell_type": "markdown",
   "metadata": {},
   "source": [
    "Узнаем, как продавались игры в разных регионах по годам"
   ]
  },
  {
   "cell_type": "code",
   "execution_count": 10,
   "metadata": {},
   "outputs": [
    {
     "data": {
      "text/plain": [
       "<matplotlib.legend.Legend at 0x7fa2c7586810>"
      ]
     },
     "execution_count": 10,
     "metadata": {},
     "output_type": "execute_result"
    },
    {
     "data": {
      "image/png": "[encoded data removed]",
      "text/plain": [
       "<Figure size 432x288 with 1 Axes>"
      ]
     },
     "metadata": {
      "needs_background": "light"
     },
     "output_type": "display_data"
    }
   ],
   "source": [
    "games_dates=games.pivot_table(index='year_of_release', values=['na_sales', 'eu_sales', 'jp_sales', 'other_sales'], aggfunc='sum').reset_index()\n",
    "\n",
    "\n",
    "games_dates.plot(x='year_of_release', y=['na_sales', 'eu_sales', 'jp_sales', 'other_sales'], kind=\"line\", legend=True, color=['skyblue', 'darkred', 'indigo', 'yellow'])\n",
    "\n",
    "title_string = \"Продажи видеоигр\"\n",
    "\n",
    "plt.xlabel('год')\n",
    "plt.ylabel('млн долларов')\n",
    "\n",
    "\n",
    "plt.title(title_string)\n",
    "plt.legend()\n"
   ]
  },
  {
   "cell_type": "code",
   "execution_count": 11,
   "metadata": {},
   "outputs": [
    {
     "data": {
      "text/plain": [
       "Text(0.5, 1.0, 'Доходы в расчете на одну игру')"
      ]
     },
     "execution_count": 11,
     "metadata": {},
     "output_type": "execute_result"
    },
    {
     "data": {
      "image/png": "[encoded data removed]",
      "text/plain": [
       "<Figure size 576x288 with 1 Axes>"
      ]
     },
     "metadata": {
      "needs_background": "light"
     },
     "output_type": "display_data"
    },
    {
     "data": {
      "image/png": "[encoded data removed]",
      "text/plain": [
       "<Figure size 576x288 with 1 Axes>"
      ]
     },
     "metadata": {
      "needs_background": "light"
     },
     "output_type": "display_data"
    },
    {
     "data": {
      "image/png": "[encoded data removed]",
      "text/plain": [
       "<Figure size 576x288 with 1 Axes>"
      ]
     },
     "metadata": {
      "needs_background": "light"
     },
     "output_type": "display_data"
    }
   ],
   "source": [
    "games_count_years=games.groupby(['year_of_release'])['name'].count().reset_index()\n",
    "\n",
    "games_count_years.plot(x='year_of_release', y='name', kind=\"line\", legend=False, figsize=(8, 4))\n",
    "\n",
    "title_string = \"Число новых релизов игр по годам\"\n",
    "\n",
    "plt.xlabel('Год')\n",
    "plt.ylabel('Штуки')\n",
    "\n",
    "\n",
    "plt.title(title_string)\n",
    "\n",
    "games_total_sums=games.groupby(['year_of_release'])['total_sales'].sum().reset_index()\n",
    "\n",
    "games_total_sums.plot(x='year_of_release', y='total_sales', kind=\"line\", legend=False, figsize=(8, 4))\n",
    "\n",
    "title_string = \"Общая выручка по годам\"\n",
    "\n",
    "plt.xlabel('Год')\n",
    "plt.ylabel('млн долларов')\n",
    "\n",
    "\n",
    "plt.title(title_string)\n",
    "\n",
    "per_year = pd.merge(games_count_years, games_total_sums, on='year_of_release', how='left')\n",
    "per_year['per_year_sum']=per_year['total_sales']/per_year['name']\n",
    "\n",
    "per_year.plot(x='year_of_release', y='per_year_sum', kind=\"line\", legend=False, figsize=(8, 4))\n",
    "\n",
    "title_string = \"Доходы в расчете на одну игру\"\n",
    "\n",
    "plt.xlabel('Год')\n",
    "plt.ylabel('млн долларов')\n",
    "\n",
    "\n",
    "plt.title(title_string)"
   ]
  },
  {
   "cell_type": "markdown",
   "metadata": {},
   "source": [
    "Если до 2010 года годовые продажи игр доходили до 700 млн долларов, то в 2016 году они составляли 130 млн долларов.\n",
    "При этом выручка в расчете на игру сильно снизилась в 91-м году - после выхода хитов Super Mario (1985), Duck Hunt (1984) и Tetris (1989), но с тех пор оставалась стабильно низкой. В 2015 и 2016 годах она еще снизилась, возможно, из-за финансового кризиса."
   ]
  },
  {
   "cell_type": "markdown",
   "metadata": {},
   "source": [
    "Очевидно, мы имеем дело с падающим рынком. Возможно, игровые платформы уступают место онлайн-играм и мобильным играм."
   ]
  },
  {
   "cell_type": "code",
   "execution_count": 12,
   "metadata": {},
   "outputs": [],
   "source": [
    "games_platforms=games.pivot_table(index='year_of_release', columns='platform', values=['total_sales'], aggfunc='sum').reset_index()\n",
    "games_platforms=games_platforms.set_index('year_of_release')"
   ]
  },
  {
   "cell_type": "code",
   "execution_count": 13,
   "metadata": {},
   "outputs": [
    {
     "data": {
      "text/plain": [
       "0.0    8982\n",
       "7.8     322\n",
       "8.0     285\n",
       "8.2     276\n",
       "8.3     252\n",
       "       ... \n",
       "2.3       2\n",
       "0.9       2\n",
       "0.7       2\n",
       "9.6       2\n",
       "9.7       1\n",
       "Name: user_score, Length: 95, dtype: int64"
      ]
     },
     "metadata": {},
     "output_type": "display_data"
    },
    {
     "data": {
      "text/plain": [
       "0.0     8461\n",
       "70.0     252\n",
       "71.0     248\n",
       "75.0     240\n",
       "80.0     235\n",
       "        ... \n",
       "20.0       3\n",
       "29.0       3\n",
       "17.0       1\n",
       "21.0       1\n",
       "13.0       1\n",
       "Name: critic_score, Length: 82, dtype: int64"
      ]
     },
     "metadata": {},
     "output_type": "display_data"
    }
   ],
   "source": [
    "display(games['user_score'].value_counts())\n",
    "display(games['critic_score'].value_counts())"
   ]
  },
  {
   "cell_type": "markdown",
   "metadata": {},
   "source": [
    "<a id='the_destination5'></a>\n",
    "## Жизненный цикл платформы"
   ]
  },
  {
   "cell_type": "markdown",
   "metadata": {},
   "source": [
    "Пользователи покупают игры под свою платформу. Посмотрим, для каких платформ выпускались игры в разное время."
   ]
  },
  {
   "cell_type": "code",
   "execution_count": 14,
   "metadata": {},
   "outputs": [
    {
     "data": {
      "text/plain": [
       "<matplotlib.legend.Legend at 0x7fa2c73a9fd0>"
      ]
     },
     "execution_count": 14,
     "metadata": {},
     "output_type": "execute_result"
    },
    {
     "data": {
      "image/png": "[encoded data removed]",
      "text/plain": [
       "<Figure size 864x432 with 1 Axes>"
      ]
     },
     "metadata": {
      "needs_background": "light"
     },
     "output_type": "display_data"
    }
   ],
   "source": [
    "games_platforms=games_platforms.reset_index()\n",
    "ax = plt.gca()\n",
    "games_platforms.plot(x='year_of_release', ax=ax, kind=\"line\", legend=True, figsize=(12, 6))\n",
    "\n",
    "title_string = \"Продажи игр по платформам\"\n",
    "\n",
    "plt.xlabel('Дата')\n",
    "plt.ylabel('млн долларов')\n",
    "\n",
    "\n",
    "plt.title(title_string)\n",
    "plt.legend()\n"
   ]
  },
  {
   "cell_type": "markdown",
   "metadata": {},
   "source": [
    "Каждая платформа появляется на рынке на несколько лет, а потом ее сменяют другие. Долго на рынке находится PC, но это скорее исключение, обусловленное широким распространением персональных компьютеров. В 2016 году на рынке не было растущих платформ."
   ]
  },
  {
   "cell_type": "markdown",
   "metadata": {},
   "source": [
    "Узнаем, каков срок жизни платформы."
   ]
  },
  {
   "cell_type": "markdown",
   "metadata": {},
   "source": [
    "Для начала посмотрим, как продавались игры по платформам по годам. Это позволит нам отсечь для каждой платформы годы с маленькими продажами."
   ]
  },
  {
   "cell_type": "code",
   "execution_count": 15,
   "metadata": {},
   "outputs": [
    {
     "data": {
      "text/plain": [
       "Text(0.5, 1.0, 'Распределение годовых продаж игр на разных платформах')"
      ]
     },
     "execution_count": 15,
     "metadata": {},
     "output_type": "execute_result"
    },
    {
     "data": {
      "image/png": "[encoded data removed]",
      "text/plain": [
       "<Figure size 432x288 with 1 Axes>"
      ]
     },
     "metadata": {
      "needs_background": "light"
     },
     "output_type": "display_data"
    }
   ],
   "source": [
    "games_gr=games.groupby(['platform','year_of_release'])['total_sales'].sum().reset_index()\n",
    "ax=games_gr['total_sales'].hist(bins=10)\n",
    "\n",
    "\n",
    "title_string = \"Распределение годовых продаж игр на разных платформах\"\n",
    "ax.set_ylabel(\"число игр\")\n",
    "ax.set_xlabel(\"годовые продажи, млн долларов\")\n",
    "\n",
    "plt.title(title_string)"
   ]
  },
  {
   "cell_type": "markdown",
   "metadata": {},
   "source": [
    "Сделаем отсечение по месяцам, когда продажи игр на платформе были ниже 20 млн долларов."
   ]
  },
  {
   "cell_type": "markdown",
   "metadata": {},
   "source": [
    "Узнаем среднее число лет, когда у платформ были сравнительно высокие продажи (больше 20 млн долларов)."
   ]
  },
  {
   "cell_type": "code",
   "execution_count": 16,
   "metadata": {},
   "outputs": [
    {
     "name": "stdout",
     "output_type": "stream",
     "text": [
      "Средний срок жизни платформы: 7.67741935483871\n",
      "Средний срок жизни платформы (без учета лет с низкими продажами): 5.4\n"
     ]
    },
    {
     "data": {
      "image/png": "[encoded data removed]",
      "text/plain": [
       "<Figure size 432x288 with 1 Axes>"
      ]
     },
     "metadata": {
      "needs_background": "light"
     },
     "output_type": "display_data"
    }
   ],
   "source": [
    "games_gr_2=games_gr.query('total_sales>20').groupby(['platform'])['total_sales'].count().reset_index()\n",
    "#games_gr_piv=games_gr.pivot_table(index='year_of_release', columns='platform', values='total_sales', aggfunc='count').reset_index()\n",
    "ax=games_gr_2['total_sales'].hist(bins=30)\n",
    "games_gr_3=games_gr.groupby(['platform'])['total_sales'].count().reset_index()\n",
    "\n",
    "ax.set_ylabel(\"количество платформ\")\n",
    "ax.set_xlabel(\"длина жизненного цикла, лет\")\n",
    "plt.suptitle(\"Распределение жизненных циклов платформ по длине\")\n",
    "plt.title(\"Учитывались годы с продажами больше 20 млн долларов\")\n",
    "\n",
    "\n",
    "print('Средний срок жизни платформы:', games_gr_3['total_sales'].mean())\n",
    "print('Средний срок жизни платформы (без учета лет с низкими продажами):', games_gr_2['total_sales'].mean())\n"
   ]
  },
  {
   "cell_type": "markdown",
   "metadata": {},
   "source": [
    "Это значит, что нам надо планировать рекламу игр на платформах, которые популярны сейчас или релиз которых запланирован на 2017 год. Узнаем, какие самые популярные платформы 2016 года."
   ]
  },
  {
   "cell_type": "code",
   "execution_count": 17,
   "metadata": {},
   "outputs": [
    {
     "data": {
      "text/html": [
       "<div>\n",
       "<style scoped>\n",
       "    .dataframe tbody tr th:only-of-type {\n",
       "        vertical-align: middle;\n",
       "    }\n",
       "\n",
       "    .dataframe tbody tr th {\n",
       "        vertical-align: top;\n",
       "    }\n",
       "\n",
       "    .dataframe thead th {\n",
       "        text-align: right;\n",
       "    }\n",
       "</style>\n",
       "<table border=\"1\" class=\"dataframe\">\n",
       "  <thead>\n",
       "    <tr style=\"text-align: right;\">\n",
       "      <th></th>\n",
       "      <th>platform</th>\n",
       "      <th>total_sales</th>\n",
       "    </tr>\n",
       "  </thead>\n",
       "  <tbody>\n",
       "    <tr>\n",
       "      <td>3</td>\n",
       "      <td>PS4</td>\n",
       "      <td>69.25</td>\n",
       "    </tr>\n",
       "    <tr>\n",
       "      <td>8</td>\n",
       "      <td>XOne</td>\n",
       "      <td>26.15</td>\n",
       "    </tr>\n",
       "    <tr>\n",
       "      <td>0</td>\n",
       "      <td>3DS</td>\n",
       "      <td>15.14</td>\n",
       "    </tr>\n",
       "    <tr>\n",
       "      <td>1</td>\n",
       "      <td>PC</td>\n",
       "      <td>5.25</td>\n",
       "    </tr>\n",
       "    <tr>\n",
       "      <td>6</td>\n",
       "      <td>WiiU</td>\n",
       "      <td>4.60</td>\n",
       "    </tr>\n",
       "    <tr>\n",
       "      <td>4</td>\n",
       "      <td>PSV</td>\n",
       "      <td>4.25</td>\n",
       "    </tr>\n",
       "    <tr>\n",
       "      <td>2</td>\n",
       "      <td>PS3</td>\n",
       "      <td>3.60</td>\n",
       "    </tr>\n",
       "    <tr>\n",
       "      <td>7</td>\n",
       "      <td>X360</td>\n",
       "      <td>1.52</td>\n",
       "    </tr>\n",
       "    <tr>\n",
       "      <td>5</td>\n",
       "      <td>Wii</td>\n",
       "      <td>0.18</td>\n",
       "    </tr>\n",
       "  </tbody>\n",
       "</table>\n",
       "</div>"
      ],
      "text/plain": [
       "  platform  total_sales\n",
       "3      PS4        69.25\n",
       "8     XOne        26.15\n",
       "0      3DS        15.14\n",
       "1       PC         5.25\n",
       "6     WiiU         4.60\n",
       "4      PSV         4.25\n",
       "2      PS3         3.60\n",
       "7     X360         1.52\n",
       "5      Wii         0.18"
      ]
     },
     "metadata": {},
     "output_type": "display_data"
    }
   ],
   "source": [
    "top_pl_2016=games.query('year_of_release==2016').groupby('platform')['total_sales'].sum().reset_index()\n",
    "display(top_pl_2016.sort_values(by='total_sales', ascending=False))\n",
    "\n",
    "top_pl_2016=top_pl_2016.query('total_sales>5')\n",
    "top_pl_2016=top_pl_2016['platform'].tolist()\n",
    "\n"
   ]
  },
  {
   "cell_type": "markdown",
   "metadata": {},
   "source": [
    "Самые продаваемые платформы в 2016 году - PS4, XOne и 3DS.  Кроме этого довольно популярны игры для персонального компьютера."
   ]
  },
  {
   "cell_type": "code",
   "execution_count": 18,
   "metadata": {},
   "outputs": [
    {
     "name": "stderr",
     "output_type": "stream",
     "text": [
      "/opt/conda/lib/python3.7/site-packages/numpy/core/_asarray.py:83: VisibleDeprecationWarning: Creating an ndarray from ragged nested sequences (which is a list-or-tuple of lists-or-tuples-or ndarrays with different lengths or shapes) is deprecated. If you meant to do this, you must specify 'dtype=object' when creating the ndarray\n",
      "  return array(a, dtype, copy=False, order=order)\n"
     ]
    },
    {
     "data": {
      "text/plain": [
       "Text(0, 0.5, 'млн долларов')"
      ]
     },
     "execution_count": 18,
     "metadata": {},
     "output_type": "execute_result"
    },
    {
     "data": {
      "image/png": "[encoded data removed]",
      "text/plain": [
       "<Figure size 432x288 with 1 Axes>"
      ]
     },
     "metadata": {
      "needs_background": "light"
     },
     "output_type": "display_data"
    }
   ],
   "source": [
    "games_box=games.query('platform in @top_pl_2016').groupby(['name', 'platform']).agg({'total_sales':'sum'})\n",
    "games_box.boxplot('total_sales', by='platform')\n",
    "plt.ylim(0,2)\n",
    "\n",
    "title_string = \"Продажи игр по платформам в 2016 году\"\n",
    "\n",
    "plt.xlabel('Платформа')\n",
    "plt.ylabel('млн долларов')\n",
    "\n"
   ]
  },
  {
   "cell_type": "code",
   "execution_count": 19,
   "metadata": {},
   "outputs": [
    {
     "name": "stdout",
     "output_type": "stream",
     "text": [
      "Число игр, выпущенных с 2013 года на двух самых популярных сейчас платформах    platform  total_sales\n",
      "18      PS4          392\n",
      "30     XOne          247\n",
      "Медиана выручки с каждой игры, выпущенной с 2013 года на двух самых популярных сейчас платформах    platform  total_sales\n",
      "18      PS4         0.20\n",
      "30     XOne         0.22\n",
      "Среднее выручки с каждой игры, выпущенной с 2013 года на двух самых популярных сейчас платформах    platform  total_sales\n",
      "18      PS4     0.801378\n",
      "30     XOne     0.645020\n"
     ]
    }
   ],
   "source": [
    "top_pl_2016_count=games.groupby('platform')['total_sales'].count().reset_index()\n",
    "top_pl_2016_median=games.groupby('platform')['total_sales'].median().reset_index()\n",
    "top_pl_2016_mean=games.groupby('platform')['total_sales'].mean().reset_index()\n",
    "\n",
    "\n",
    "print(\"Число игр, выпущенных с 2013 года на двух самых популярных сейчас платформах\", top_pl_2016_count.query('platform==\"XOne\"|platform==\"PS4\"'))\n",
    "print(\"Медиана выручки с каждой игры, выпущенной с 2013 года на двух самых популярных сейчас платформах\", top_pl_2016_median.query('platform==\"XOne\"|platform==\"PS4\"'))\n",
    "print(\"Среднее выручки с каждой игры, выпущенной с 2013 года на двух самых популярных сейчас платформах\", top_pl_2016_mean.query('platform==\"XOne\"|platform==\"PS4\"'))"
   ]
  },
  {
   "cell_type": "markdown",
   "metadata": {},
   "source": [
    "Самые популярные сейчас платформы, XOne и PS4, были выпущены на рынок в 2013 году. С тех пор для PS4 вышло в 1,5 раза больше игр. Медианные выручки каждой игры на этих платформах почти одинаковые (у XOne немного больше - 0,22 млн долларов против 0,2). Но средний показатель выше у PS4 благодаря очень успешным продажам Call of Duty, GTA и FIFA."
   ]
  },
  {
   "cell_type": "markdown",
   "metadata": {},
   "source": [
    "Многие игры - кросплатформенные, то есть выходят сразу на нескольких платформах. Узнаем, где выручка таких игр больше - на PS4 или XOne."
   ]
  },
  {
   "cell_type": "code",
   "execution_count": 20,
   "metadata": {},
   "outputs": [
    {
     "name": "stdout",
     "output_type": "stream",
     "text": [
      "Суммарные продажи игр, которые выходили и на PS4, и на XOne\n",
      "PS4: 256.35 млн долларов\n",
      "XOne 129.36 млн долларов\n"
     ]
    }
   ],
   "source": [
    "top_pl_2016_names=games.query('platform==\"XOne\"|platform==\"PS4\"').pivot_table(index='name', columns='platform', values='total_sales', aggfunc='sum').reset_index()\n",
    "top_pl_2016_names=top_pl_2016_names.query('PS4.notna()&XOne.notna()')\n",
    "\n",
    "print('Суммарные продажи игр, которые выходили и на PS4, и на XOne')\n",
    "print('PS4:', top_pl_2016_names['PS4'].sum(), 'млн долларов')\n",
    "print('XOne', top_pl_2016_names['XOne'].sum(), 'млн долларов')\n",
    "\n",
    "\n"
   ]
  },
  {
   "cell_type": "markdown",
   "metadata": {},
   "source": [
    "Суммарная выручка одних и тех же игр почти в два раза больше на PS4."
   ]
  },
  {
   "cell_type": "markdown",
   "metadata": {},
   "source": [
    "## Вывод\n",
    "Жизненный цикл платформы - около 5 лет. Рекламировать стоит те платформы, которые показали хорошие результаты или рост за предыдущий год.\n",
    "\n",
    "В 2016 году наиболее продаваемые игры выходили на Play Station 4 и Xbox One и портативной приставке 3DS от Nintendo. Кроме этого довольно популярны игры для персонального компьютера. И хотя PC отстает от трех самых продаваемых платформ - формально PC можно было бы отбросить, не стоит этого делать. Эта платформа - долгожитель, и держит популярность дольше среднего, как видно на графике выше.\n",
    "\n",
    "Самые популярные сейчас платформы, XOne и PS4, были выпущены на рынок в 2013 году. С тех пор для PS4 вышло в 1,5 раза больше игр (392 против 247). Медианные выручки каждой игры на этих платформах почти одинаковые (у XOne немного больше - 0,22 млн долларов против 0,2). Но средний показатель выше у PS4 благодаря очень успешным продажам Call of Duty, GTA и FIFA.\n",
    "\n",
    "Суммарная выручка одних и тех же игр почти в два раза больше на PS4."
   ]
  },
  {
   "cell_type": "markdown",
   "metadata": {},
   "source": [
    "<a id='the_destination6'></a>\n",
    "## Влияние оценок других пользователей на продажи"
   ]
  },
  {
   "cell_type": "markdown",
   "metadata": {},
   "source": [
    "Узнаем, зависят ли продажи игр от оценок критиков и других пользователей."
   ]
  },
  {
   "cell_type": "code",
   "execution_count": 21,
   "metadata": {},
   "outputs": [
    {
     "data": {
      "text/plain": [
       "Text(0.5, 0, 'общие продажи')"
      ]
     },
     "execution_count": 21,
     "metadata": {},
     "output_type": "execute_result"
    },
    {
     "data": {
      "image/png": "[encoded data removed]",
      "text/plain": [
       "<Figure size 432x288 with 1 Axes>"
      ]
     },
     "metadata": {
      "needs_background": "light"
     },
     "output_type": "display_data"
    },
    {
     "data": {
      "image/png": "[encoded data removed]",
      "text/plain": [
       "<Figure size 432x288 with 1 Axes>"
      ]
     },
     "metadata": {
      "needs_background": "light"
     },
     "output_type": "display_data"
    }
   ],
   "source": [
    "#flats_table['ceiling_height'].plot(style='o', ylim=(0,40), title='Квартиры на каких этажах есть в таблице')\n",
    "ax=games.query('platform==\"PS4\"').plot(x='total_sales', y=['critic_score'], legend=False, style='o', grid=True, title='Взаимосвязь critic_score и продаж')\n",
    "ax.set_ylabel(\"рейтинг критиков\")\n",
    "ax.set_xlabel(\"общие продажи\")\n",
    "\n",
    "ax=games.query('platform==\"PS4\"').plot(x='total_sales', y='user_score', style='o', grid=True, title='Взаимосвязь user_score и продаж')\n",
    "ax.set_ylabel(\"рейтинг пользователей\")\n",
    "ax.set_xlabel(\"общие продажи\")"
   ]
  },
  {
   "cell_type": "markdown",
   "metadata": {},
   "source": [
    "При вычислении корреляции будем смотреть только на последние 10 лет и отбросим строки, где нет оценок пользователей и критиков."
   ]
  },
  {
   "cell_type": "code",
   "execution_count": 22,
   "metadata": {
    "scrolled": false
   },
   "outputs": [
    {
     "data": {
      "text/html": [
       "<div>\n",
       "<style scoped>\n",
       "    .dataframe tbody tr th:only-of-type {\n",
       "        vertical-align: middle;\n",
       "    }\n",
       "\n",
       "    .dataframe tbody tr th {\n",
       "        vertical-align: top;\n",
       "    }\n",
       "\n",
       "    .dataframe thead th {\n",
       "        text-align: right;\n",
       "    }\n",
       "</style>\n",
       "<table border=\"1\" class=\"dataframe\">\n",
       "  <thead>\n",
       "    <tr style=\"text-align: right;\">\n",
       "      <th></th>\n",
       "      <th>year_of_release</th>\n",
       "      <th>na_sales</th>\n",
       "      <th>eu_sales</th>\n",
       "      <th>jp_sales</th>\n",
       "      <th>other_sales</th>\n",
       "      <th>critic_score</th>\n",
       "      <th>user_score</th>\n",
       "      <th>total_sales</th>\n",
       "    </tr>\n",
       "  </thead>\n",
       "  <tbody>\n",
       "    <tr>\n",
       "      <td>year_of_release</td>\n",
       "      <td>1.000000</td>\n",
       "      <td>-0.002386</td>\n",
       "      <td>0.050745</td>\n",
       "      <td>-0.026317</td>\n",
       "      <td>0.053747</td>\n",
       "      <td>0.011411</td>\n",
       "      <td>0.040142</td>\n",
       "      <td>0.020107</td>\n",
       "    </tr>\n",
       "    <tr>\n",
       "      <td>na_sales</td>\n",
       "      <td>-0.002386</td>\n",
       "      <td>1.000000</td>\n",
       "      <td>0.842492</td>\n",
       "      <td>0.470186</td>\n",
       "      <td>0.728083</td>\n",
       "      <td>0.240083</td>\n",
       "      <td>0.129744</td>\n",
       "      <td>0.956061</td>\n",
       "    </tr>\n",
       "    <tr>\n",
       "      <td>eu_sales</td>\n",
       "      <td>0.050745</td>\n",
       "      <td>0.842492</td>\n",
       "      <td>1.000000</td>\n",
       "      <td>0.520845</td>\n",
       "      <td>0.718019</td>\n",
       "      <td>0.221276</td>\n",
       "      <td>0.111731</td>\n",
       "      <td>0.939557</td>\n",
       "    </tr>\n",
       "    <tr>\n",
       "      <td>jp_sales</td>\n",
       "      <td>-0.026317</td>\n",
       "      <td>0.470186</td>\n",
       "      <td>0.520845</td>\n",
       "      <td>1.000000</td>\n",
       "      <td>0.397317</td>\n",
       "      <td>0.153474</td>\n",
       "      <td>0.126538</td>\n",
       "      <td>0.614425</td>\n",
       "    </tr>\n",
       "    <tr>\n",
       "      <td>other_sales</td>\n",
       "      <td>0.053747</td>\n",
       "      <td>0.728083</td>\n",
       "      <td>0.718019</td>\n",
       "      <td>0.397317</td>\n",
       "      <td>1.000000</td>\n",
       "      <td>0.198410</td>\n",
       "      <td>0.106886</td>\n",
       "      <td>0.805179</td>\n",
       "    </tr>\n",
       "    <tr>\n",
       "      <td>critic_score</td>\n",
       "      <td>0.011411</td>\n",
       "      <td>0.240083</td>\n",
       "      <td>0.221276</td>\n",
       "      <td>0.153474</td>\n",
       "      <td>0.198410</td>\n",
       "      <td>1.000000</td>\n",
       "      <td>0.456652</td>\n",
       "      <td>0.245349</td>\n",
       "    </tr>\n",
       "    <tr>\n",
       "      <td>user_score</td>\n",
       "      <td>0.040142</td>\n",
       "      <td>0.129744</td>\n",
       "      <td>0.111731</td>\n",
       "      <td>0.126538</td>\n",
       "      <td>0.106886</td>\n",
       "      <td>0.456652</td>\n",
       "      <td>1.000000</td>\n",
       "      <td>0.136163</td>\n",
       "    </tr>\n",
       "    <tr>\n",
       "      <td>total_sales</td>\n",
       "      <td>0.020107</td>\n",
       "      <td>0.956061</td>\n",
       "      <td>0.939557</td>\n",
       "      <td>0.614425</td>\n",
       "      <td>0.805179</td>\n",
       "      <td>0.245349</td>\n",
       "      <td>0.136163</td>\n",
       "      <td>1.000000</td>\n",
       "    </tr>\n",
       "  </tbody>\n",
       "</table>\n",
       "</div>"
      ],
      "text/plain": [
       "                 year_of_release  na_sales  eu_sales  jp_sales  other_sales  \\\n",
       "year_of_release         1.000000 -0.002386  0.050745 -0.026317     0.053747   \n",
       "na_sales               -0.002386  1.000000  0.842492  0.470186     0.728083   \n",
       "eu_sales                0.050745  0.842492  1.000000  0.520845     0.718019   \n",
       "jp_sales               -0.026317  0.470186  0.520845  1.000000     0.397317   \n",
       "other_sales             0.053747  0.728083  0.718019  0.397317     1.000000   \n",
       "critic_score            0.011411  0.240083  0.221276  0.153474     0.198410   \n",
       "user_score              0.040142  0.129744  0.111731  0.126538     0.106886   \n",
       "total_sales             0.020107  0.956061  0.939557  0.614425     0.805179   \n",
       "\n",
       "                 critic_score  user_score  total_sales  \n",
       "year_of_release      0.011411    0.040142     0.020107  \n",
       "na_sales             0.240083    0.129744     0.956061  \n",
       "eu_sales             0.221276    0.111731     0.939557  \n",
       "jp_sales             0.153474    0.126538     0.614425  \n",
       "other_sales          0.198410    0.106886     0.805179  \n",
       "critic_score         1.000000    0.456652     0.245349  \n",
       "user_score           0.456652    1.000000     0.136163  \n",
       "total_sales          0.245349    0.136163     1.000000  "
      ]
     },
     "metadata": {},
     "output_type": "display_data"
    },
    {
     "data": {
      "text/html": [
       "<div>\n",
       "<style scoped>\n",
       "    .dataframe tbody tr th:only-of-type {\n",
       "        vertical-align: middle;\n",
       "    }\n",
       "\n",
       "    .dataframe tbody tr th {\n",
       "        vertical-align: top;\n",
       "    }\n",
       "\n",
       "    .dataframe thead th {\n",
       "        text-align: right;\n",
       "    }\n",
       "</style>\n",
       "<table border=\"1\" class=\"dataframe\">\n",
       "  <thead>\n",
       "    <tr style=\"text-align: right;\">\n",
       "      <th></th>\n",
       "      <th>year_of_release</th>\n",
       "      <th>na_sales</th>\n",
       "      <th>eu_sales</th>\n",
       "      <th>jp_sales</th>\n",
       "      <th>other_sales</th>\n",
       "      <th>critic_score</th>\n",
       "      <th>user_score</th>\n",
       "      <th>total_sales</th>\n",
       "    </tr>\n",
       "  </thead>\n",
       "  <tbody>\n",
       "    <tr>\n",
       "      <td>year_of_release</td>\n",
       "      <td>1.000000</td>\n",
       "      <td>-0.030771</td>\n",
       "      <td>0.028956</td>\n",
       "      <td>-0.046200</td>\n",
       "      <td>0.031480</td>\n",
       "      <td>-0.141088</td>\n",
       "      <td>-0.268211</td>\n",
       "      <td>-0.007428</td>\n",
       "    </tr>\n",
       "    <tr>\n",
       "      <td>na_sales</td>\n",
       "      <td>-0.030771</td>\n",
       "      <td>1.000000</td>\n",
       "      <td>0.837813</td>\n",
       "      <td>0.466614</td>\n",
       "      <td>0.722749</td>\n",
       "      <td>0.176332</td>\n",
       "      <td>0.085873</td>\n",
       "      <td>0.954859</td>\n",
       "    </tr>\n",
       "    <tr>\n",
       "      <td>eu_sales</td>\n",
       "      <td>0.028956</td>\n",
       "      <td>0.837813</td>\n",
       "      <td>1.000000</td>\n",
       "      <td>0.518017</td>\n",
       "      <td>0.713893</td>\n",
       "      <td>0.158355</td>\n",
       "      <td>0.055397</td>\n",
       "      <td>0.938074</td>\n",
       "    </tr>\n",
       "    <tr>\n",
       "      <td>jp_sales</td>\n",
       "      <td>-0.046200</td>\n",
       "      <td>0.466614</td>\n",
       "      <td>0.518017</td>\n",
       "      <td>1.000000</td>\n",
       "      <td>0.393403</td>\n",
       "      <td>0.125943</td>\n",
       "      <td>0.126426</td>\n",
       "      <td>0.612200</td>\n",
       "    </tr>\n",
       "    <tr>\n",
       "      <td>other_sales</td>\n",
       "      <td>0.031480</td>\n",
       "      <td>0.722749</td>\n",
       "      <td>0.713893</td>\n",
       "      <td>0.393403</td>\n",
       "      <td>1.000000</td>\n",
       "      <td>0.133832</td>\n",
       "      <td>0.056973</td>\n",
       "      <td>0.802185</td>\n",
       "    </tr>\n",
       "    <tr>\n",
       "      <td>critic_score</td>\n",
       "      <td>-0.141088</td>\n",
       "      <td>0.176332</td>\n",
       "      <td>0.158355</td>\n",
       "      <td>0.125943</td>\n",
       "      <td>0.133832</td>\n",
       "      <td>1.000000</td>\n",
       "      <td>0.419699</td>\n",
       "      <td>0.179361</td>\n",
       "    </tr>\n",
       "    <tr>\n",
       "      <td>user_score</td>\n",
       "      <td>-0.268211</td>\n",
       "      <td>0.085873</td>\n",
       "      <td>0.055397</td>\n",
       "      <td>0.126426</td>\n",
       "      <td>0.056973</td>\n",
       "      <td>0.419699</td>\n",
       "      <td>1.000000</td>\n",
       "      <td>0.088110</td>\n",
       "    </tr>\n",
       "    <tr>\n",
       "      <td>total_sales</td>\n",
       "      <td>-0.007428</td>\n",
       "      <td>0.954859</td>\n",
       "      <td>0.938074</td>\n",
       "      <td>0.612200</td>\n",
       "      <td>0.802185</td>\n",
       "      <td>0.179361</td>\n",
       "      <td>0.088110</td>\n",
       "      <td>1.000000</td>\n",
       "    </tr>\n",
       "  </tbody>\n",
       "</table>\n",
       "</div>"
      ],
      "text/plain": [
       "                 year_of_release  na_sales  eu_sales  jp_sales  other_sales  \\\n",
       "year_of_release         1.000000 -0.030771  0.028956 -0.046200     0.031480   \n",
       "na_sales               -0.030771  1.000000  0.837813  0.466614     0.722749   \n",
       "eu_sales                0.028956  0.837813  1.000000  0.518017     0.713893   \n",
       "jp_sales               -0.046200  0.466614  0.518017  1.000000     0.393403   \n",
       "other_sales             0.031480  0.722749  0.713893  0.393403     1.000000   \n",
       "critic_score           -0.141088  0.176332  0.158355  0.125943     0.133832   \n",
       "user_score             -0.268211  0.085873  0.055397  0.126426     0.056973   \n",
       "total_sales            -0.007428  0.954859  0.938074  0.612200     0.802185   \n",
       "\n",
       "                 critic_score  user_score  total_sales  \n",
       "year_of_release     -0.141088   -0.268211    -0.007428  \n",
       "na_sales             0.176332    0.085873     0.954859  \n",
       "eu_sales             0.158355    0.055397     0.938074  \n",
       "jp_sales             0.125943    0.126426     0.612200  \n",
       "other_sales          0.133832    0.056973     0.802185  \n",
       "critic_score         1.000000    0.419699     0.179361  \n",
       "user_score           0.419699    1.000000     0.088110  \n",
       "total_sales          0.179361    0.088110     1.000000  "
      ]
     },
     "metadata": {},
     "output_type": "display_data"
    }
   ],
   "source": [
    "display(games.query('critic_score!=0').corr())\n",
    "display(games.query('user_score!=0').corr())"
   ]
  },
  {
   "cell_type": "code",
   "execution_count": 23,
   "metadata": {},
   "outputs": [
    {
     "data": {
      "text/plain": [
       "0.0     8461\n",
       "70.0     252\n",
       "71.0     248\n",
       "75.0     240\n",
       "80.0     235\n",
       "        ... \n",
       "20.0       3\n",
       "29.0       3\n",
       "17.0       1\n",
       "21.0       1\n",
       "13.0       1\n",
       "Name: critic_score, Length: 82, dtype: int64"
      ]
     },
     "execution_count": 23,
     "metadata": {},
     "output_type": "execute_result"
    }
   ],
   "source": [
    "games['critic_score'].value_counts()\n"
   ]
  },
  {
   "cell_type": "code",
   "execution_count": 24,
   "metadata": {},
   "outputs": [
    {
     "data": {
      "text/plain": [
       "0.0    8982\n",
       "7.8     322\n",
       "8.0     285\n",
       "8.2     276\n",
       "8.3     252\n",
       "       ... \n",
       "2.3       2\n",
       "0.9       2\n",
       "0.7       2\n",
       "9.6       2\n",
       "9.7       1\n",
       "Name: user_score, Length: 95, dtype: int64"
      ]
     },
     "execution_count": 24,
     "metadata": {},
     "output_type": "execute_result"
    }
   ],
   "source": [
    "games['user_score'].value_counts()"
   ]
  },
  {
   "cell_type": "markdown",
   "metadata": {},
   "source": [
    "## Вывод\n",
    "\n",
    "Как видим, продажи больше коррелируют с оценками критиков, чем оценками других пользователей (0,33 против 0,03). Что интересно, влияние мнения критиков выше в Европе (0,3) и Северной Америке (0,3), чем в Японии (0,13).\n",
    "\n",
    "Зато в Японии больше влияние оценок пользователей (0,13 в Японии против 0,06 в Европе и 0,09 в США).\n",
    "\n",
    "Этот показатель не может быть единственным при принятии решения. У многих игр отсутствует рейтинг, в общей сложности примерно у половины. В том числе у тех, что показавали большие продажи. Характерный пример - Call of Duty: Black Ops 3, который собрал 14,63 млн долларов или около 5% выручки всех игр в 2015 году.\n",
    "\n",
    "Возможно, следует усовершенствовать методику сбора информации о рейтингах игр."
   ]
  },
  {
   "cell_type": "markdown",
   "metadata": {},
   "source": [
    "<a id='the_destination7'></a>\n",
    "## Самые популярные жанры"
   ]
  },
  {
   "cell_type": "markdown",
   "metadata": {},
   "source": [
    "Определим самые популярные жанры игр."
   ]
  },
  {
   "cell_type": "code",
   "execution_count": 25,
   "metadata": {},
   "outputs": [
    {
     "name": "stdout",
     "output_type": "stream",
     "text": [
      "Самые продаваемые игровые жанры. Продажи в среднем на игру, млн долларов\n",
      "           genre  total_sales\n",
      "8        Shooter     1.335469\n",
      "10        Sports     0.680000\n",
      "4       Platform     0.476053\n",
      "2       Fighting     0.470333\n",
      "7   Role-Playing     0.459005\n",
      "6         Racing     0.398841\n",
      "3           Misc     0.332301\n",
      "0         Action     0.322068\n",
      "9     Simulation     0.298409\n",
      "5         Puzzle     0.157857\n",
      "11      Strategy     0.107027\n",
      "1      Adventure     0.094865\n",
      "\n",
      "Самые продаваемые игровые жанры. Общие продажи, млн долларов\n",
      "           genre  total_sales\n",
      "0         Action       199.36\n",
      "8        Shooter       170.94\n",
      "10        Sports       109.48\n",
      "7   Role-Playing       101.44\n",
      "3           Misc        37.55\n",
      "2       Fighting        28.22\n",
      "6         Racing        27.52\n",
      "4       Platform        18.09\n",
      "1      Adventure        17.55\n",
      "9     Simulation        13.13\n",
      "11      Strategy         3.96\n",
      "5         Puzzle         2.21\n"
     ]
    },
    {
     "data": {
      "image/png": "[encoded data removed]",
      "text/plain": [
       "<Figure size 432x288 with 1 Axes>"
      ]
     },
     "metadata": {
      "needs_background": "light"
     },
     "output_type": "display_data"
    }
   ],
   "source": [
    "games_2016=games.query('year_of_release>2013')\n",
    "games_genres_mean=games_2016.pivot_table(index='genre', values='total_sales', aggfunc='mean').reset_index()\n",
    "games_genres_sum=games_2016.pivot_table(index='genre', values='total_sales', aggfunc='sum').reset_index()\n",
    "\n",
    "print('Самые продаваемые игровые жанры. Продажи в среднем на игру, млн долларов')\n",
    "print(games_genres_mean.sort_values(by='total_sales', ascending=False))\n",
    "print()\n",
    "print('Самые продаваемые игровые жанры. Общие продажи, млн долларов')\n",
    "print(games_genres_sum.sort_values(by='total_sales', ascending=False))\n",
    "\n",
    "games_genres_mean_mean=games_genres_mean['total_sales'].mean()\n",
    "\n",
    "\n",
    "\n",
    "games_genres_mean.plot(x='genre', y='total_sales', kind=\"bar\", legend=False, color='grey', alpha=0.7)\n",
    "plt.title('Средние продажи игр разных жанров')\n",
    "plt.grid(axis='y')\n",
    "plt.xticks(rotation=90)\n",
    "plt.ylabel('млн долларов')\n",
    "plt.xlabel('жанр')\n",
    "\n",
    "plt.axhline(y=games_genres_mean_mean, color='red', linestyle='dashed', linewidth=1)\n",
    "plt.show()"
   ]
  },
  {
   "cell_type": "markdown",
   "metadata": {},
   "source": [
    "В 2014-2016 годах \"стрелялки\" в среднем продавались в несколько раз лучше, чем игры других жанров (1,3 млн долларов в среднем на игру, что примерно в три раза лучше среднего). На втором месте - спортивные игры (0,7 млн долларов на игру).\n",
    "\n",
    "Кроме этого, выше среднего продажи игр в следующих жанрах: Fighting, Platform, Role-Playing.\n",
    "\n",
    "Игры жанра Action дают большой доход в целом, но принадлежность к этому жанру - не залог успеха. Таких игр выпускается очень много, и многие из них проваливаются."
   ]
  },
  {
   "cell_type": "markdown",
   "metadata": {},
   "source": [
    "<a id='the_destination8'></a>\n",
    "## Портрет пользователей разных регионов"
   ]
  },
  {
   "cell_type": "markdown",
   "metadata": {},
   "source": [
    "## Платформы"
   ]
  },
  {
   "cell_type": "markdown",
   "metadata": {},
   "source": [
    "Узнаем, игры каких платформ были самыми продаваемыми в 2016 году."
   ]
  },
  {
   "cell_type": "code",
   "execution_count": 26,
   "metadata": {},
   "outputs": [
    {
     "name": "stdout",
     "output_type": "stream",
     "text": [
      "  platform  eu_sales  jp_sales  na_sales\n",
      "0      3DS      2.33      8.03      4.14\n",
      "1       PC      3.53      0.00      1.36\n",
      "2      PS3      1.26      1.30      0.67\n",
      "3      PS4     31.78      5.74     21.49\n",
      "4      PSV      0.39      3.56      0.15\n"
     ]
    }
   ],
   "source": [
    "top_platforms=games.query('year_of_release==2016').pivot_table(index='platform', values=['na_sales', 'eu_sales', 'jp_sales'], aggfunc='sum').reset_index()\n",
    "print(top_platforms.head())"
   ]
  },
  {
   "cell_type": "code",
   "execution_count": 27,
   "metadata": {},
   "outputs": [
    {
     "name": "stdout",
     "output_type": "stream",
     "text": [
      "  platform  eu_sales  jp_sales  na_sales  eu_sales_total_share  \\\n",
      "0      3DS      2.33      8.03      4.14                     4   \n",
      "1       PC      3.53      0.00      1.36                     6   \n",
      "2      PS3      1.26      1.30      0.67                     2   \n",
      "3      PS4     31.78      5.74     21.49                    62   \n",
      "4      PSV      0.39      3.56      0.15                     0   \n",
      "\n",
      "   jp_sales_total_share  na_sales_total_share  \n",
      "0                    41                     9  \n",
      "1                     0                     3  \n",
      "2                     6                     1  \n",
      "3                    29                    47  \n",
      "4                    18                     0  \n"
     ]
    }
   ],
   "source": [
    "top_platforms['eu_sales_total_share']=(top_platforms['eu_sales']*100/top_platforms['eu_sales'].sum()).astype(int)\n",
    "top_platforms['jp_sales_total_share']=(top_platforms['jp_sales']*100/top_platforms['jp_sales'].sum()).astype(int)\n",
    "top_platforms['na_sales_total_share']=(top_platforms['na_sales']*100/top_platforms['na_sales'].sum()).astype(int)\n",
    "\n",
    "print(top_platforms.head(5))"
   ]
  },
  {
   "cell_type": "code",
   "execution_count": 28,
   "metadata": {},
   "outputs": [],
   "source": [
    "top_platforms_eu=top_platforms[['platform', 'eu_sales_total_share']]\n",
    "top_platforms_eu5=top_platforms_eu.nlargest(5, 'eu_sales_total_share')\n",
    "\n",
    "new_row = pd.DataFrame(data = {\n",
    "    'platform' : ['others'],\n",
    "    'eu_sales_total_share' : [100-top_platforms_eu['eu_sales_total_share'].sum()]\n",
    "})\n",
    "\n",
    "top_platforms_eu5 = pd.concat([top_platforms_eu5, new_row])\n"
   ]
  },
  {
   "cell_type": "code",
   "execution_count": 29,
   "metadata": {},
   "outputs": [],
   "source": [
    "top_platforms_jp=top_platforms[['platform', 'jp_sales_total_share']]\n",
    "top_platforms_jp5=top_platforms_jp.nlargest(5, 'jp_sales_total_share')\n",
    "\n",
    "new_row = pd.DataFrame(data = {\n",
    "    'platform' : ['others'],\n",
    "    'jp_sales_total_share' : [100-top_platforms_jp['jp_sales_total_share'].sum()]\n",
    "})\n",
    "\n",
    "top_platforms_jp = pd.concat([top_platforms_jp5, new_row])"
   ]
  },
  {
   "cell_type": "code",
   "execution_count": 30,
   "metadata": {},
   "outputs": [],
   "source": [
    "top_platforms_na=top_platforms[['platform', 'na_sales_total_share']]\n",
    "top_platforms_na5=top_platforms_na.nlargest(5, 'na_sales_total_share')\n",
    "\n",
    "new_row = pd.DataFrame(data = {\n",
    "    'platform' : ['others'],\n",
    "    'na_sales_total_share' : [100-top_platforms_na['na_sales_total_share'].sum()]\n",
    "})\n",
    "\n",
    "top_platforms_na = pd.concat([top_platforms_na5, new_row])"
   ]
  },
  {
   "cell_type": "code",
   "execution_count": 31,
   "metadata": {},
   "outputs": [],
   "source": [
    "result_platform = pd.merge(top_platforms_eu5, top_platforms_jp5, on='platform', how='outer')\n",
    "result_platform = pd.merge(result_platform, top_platforms_na5, on='platform', how='outer')\n",
    "result_platform=result_platform.set_index('platform')\n",
    "result_platform=result_platform.transpose()"
   ]
  },
  {
   "cell_type": "code",
   "execution_count": 32,
   "metadata": {},
   "outputs": [
    {
     "name": "stdout",
     "output_type": "stream",
     "text": [
      "platform               PS4  XOne   PC   3DS  PS3  others   PSV  WiiU\n",
      "eu_sales_total_share  62.0  18.0  6.0   4.0  2.0     5.0   NaN   NaN\n",
      "jp_sales_total_share  29.0   NaN  NaN  41.0  6.0     NaN  18.0   3.0\n",
      "na_sales_total_share  47.0  31.0  3.0   9.0  NaN     NaN   NaN   4.0\n"
     ]
    }
   ],
   "source": [
    "print(result_platform)"
   ]
  },
  {
   "cell_type": "code",
   "execution_count": 33,
   "metadata": {},
   "outputs": [
    {
     "name": "stdout",
     "output_type": "stream",
     "text": [
      "platform               PS4  XOne   PC   3DS  PS3  others   PSV  WiiU\n",
      "eu_sales_total_share  62.0  18.0  6.0   4.0  2.0     5.0   NaN   NaN\n",
      "jp_sales_total_share  29.0   NaN  NaN  41.0  6.0     NaN  18.0   3.0\n",
      "na_sales_total_share  47.0  31.0  3.0   9.0  NaN     NaN   NaN   4.0\n"
     ]
    },
    {
     "data": {
      "image/png": "[encoded data removed]",
      "text/plain": [
       "<Figure size 864x288 with 1 Axes>"
      ]
     },
     "metadata": {
      "needs_background": "light"
     },
     "output_type": "display_data"
    }
   ],
   "source": [
    "result_platform.plot(kind='bar', stacked='True', figsize=(12,4), alpha=0.8)\n",
    "subtitle_string = \"Топ-5 платформ в каждом из регионов\"\n",
    "title_string = \"Доля самых популярных жанров от общих продаж в регионе в 2016 году, %\"\n",
    "\n",
    "plt.xlabel('Регион')\n",
    "plt.ylabel('%')\n",
    "\n",
    "plt.suptitle(subtitle_string)\n",
    "plt.title(title_string)\n",
    "plt.legend()\n",
    "print(result_platform)"
   ]
  },
  {
   "cell_type": "markdown",
   "metadata": {},
   "source": [
    "В Европе и Северной Америке лидируют Play Station 4 и Xbox One. В обоих регионах на игры для этих двух платформ приходится 80% рынка игр.\n",
    "В Японии ситуация другая, там заметное место занимают портативные платформы (те, для которых не нужен экран; они хорошо подходят для игры, например, в транспорте). На первом по продажам месте там игры для 3DS от Nintendo, а третье - портативная PSV. ПРи этом в Японии, в отличие от Европы и Северной Америки, почти не играют на PC.\n",
    "\n",
    "PS4 занимает в Японии второе место по продажам игр, то есть эта платформа популярна во всех трех регионах."
   ]
  },
  {
   "cell_type": "code",
   "execution_count": 34,
   "metadata": {},
   "outputs": [
    {
     "name": "stdout",
     "output_type": "stream",
     "text": [
      "           genre  eu_sales  jp_sales  na_sales\n",
      "0         Action     10.68      7.07      9.29\n",
      "1      Adventure      1.32      1.18      0.95\n",
      "2       Fighting      1.34      0.75      1.84\n",
      "3           Misc      0.66      1.04      0.76\n",
      "4       Platform      1.39      0.11      1.29\n",
      "5         Puzzle      0.01      0.00      0.00\n",
      "6         Racing      1.77      0.01      0.73\n",
      "7   Role-Playing      4.28      6.61      5.89\n",
      "8        Shooter     15.90      1.06     16.24\n",
      "9     Simulation      1.27      0.33      0.16\n",
      "10        Sports     12.01      0.92      7.54\n",
      "11      Strategy      0.59      0.23      0.24\n"
     ]
    }
   ],
   "source": [
    "top_genres=games.query('year_of_release>2015').pivot_table(index='genre', values=['na_sales', 'eu_sales', 'jp_sales'], aggfunc='sum').reset_index()\n",
    "print(top_genres)"
   ]
  },
  {
   "cell_type": "code",
   "execution_count": 35,
   "metadata": {},
   "outputs": [
    {
     "name": "stdout",
     "output_type": "stream",
     "text": [
      "  platform  eu_sales  jp_sales  na_sales  eu_sales_total_share  \\\n",
      "0      3DS      2.33      8.03      4.14                     4   \n",
      "1       PC      3.53      0.00      1.36                     6   \n",
      "2      PS3      1.26      1.30      0.67                     2   \n",
      "3      PS4     31.78      5.74     21.49                    62   \n",
      "4      PSV      0.39      3.56      0.15                     0   \n",
      "\n",
      "   jp_sales_total_share  na_sales_total_share  \n",
      "0                    41                     9  \n",
      "1                     0                     3  \n",
      "2                     6                     1  \n",
      "3                    29                    47  \n",
      "4                    18                     0  \n"
     ]
    }
   ],
   "source": [
    "top_genres['eu_sales_total_share']=(top_genres['eu_sales']*100/top_genres['eu_sales'].sum()).astype(int)\n",
    "top_genres['jp_sales_total_share']=(top_genres['jp_sales']*100/top_genres['jp_sales'].sum()).astype(int)\n",
    "top_genres['na_sales_total_share']=(top_genres['na_sales']*100/top_genres['na_sales'].sum()).astype(int)\n",
    "\n",
    "print(top_platforms.head(5))"
   ]
  },
  {
   "cell_type": "markdown",
   "metadata": {},
   "source": [
    "## Жанры"
   ]
  },
  {
   "cell_type": "code",
   "execution_count": 36,
   "metadata": {},
   "outputs": [
    {
     "name": "stdout",
     "output_type": "stream",
     "text": [
      "           genre  eu_sales_total_share\n",
      "8        Shooter                    31\n",
      "10        Sports                    23\n",
      "0         Action                    20\n",
      "7   Role-Playing                     8\n",
      "6         Racing                     3\n",
      "0         others                    15\n"
     ]
    }
   ],
   "source": [
    "top_genres_eu=top_genres[['genre', 'eu_sales_total_share']]\n",
    "top_genres_eu5=top_genres_eu.nlargest(5, 'eu_sales_total_share')\n",
    "\n",
    "new_row = pd.DataFrame(data = {\n",
    "    'genre' : ['others'],\n",
    "    'eu_sales_total_share' : [100-top_genres_eu5['eu_sales_total_share'].sum()]\n",
    "})\n",
    "\n",
    "top_genres_eu5 = pd.concat([top_genres_eu5, new_row])\n",
    "\n",
    "print(top_genres_eu5)"
   ]
  },
  {
   "cell_type": "code",
   "execution_count": 37,
   "metadata": {},
   "outputs": [
    {
     "name": "stdout",
     "output_type": "stream",
     "text": [
      "          genre  jp_sales_total_share\n",
      "0        Action                    36\n",
      "7  Role-Playing                    34\n",
      "1     Adventure                     6\n",
      "3          Misc                     5\n",
      "8       Shooter                     5\n",
      "0        others                    14\n"
     ]
    }
   ],
   "source": [
    "top_genres_jp=top_genres[['genre', 'jp_sales_total_share']]\n",
    "top_genres_jp5=top_genres_jp.nlargest(5, 'jp_sales_total_share')\n",
    "\n",
    "new_row = pd.DataFrame(data = {\n",
    "    'genre' : ['others'],\n",
    "    'jp_sales_total_share' : [100-top_genres_jp5['jp_sales_total_share'].sum()]\n",
    "})\n",
    "\n",
    "top_genres_jp5 = pd.concat([top_genres_jp5, new_row])\n",
    "\n",
    "print(top_genres_jp5)"
   ]
  },
  {
   "cell_type": "code",
   "execution_count": 38,
   "metadata": {},
   "outputs": [
    {
     "name": "stdout",
     "output_type": "stream",
     "text": [
      "           genre  na_sales_total_share\n",
      "8        Shooter                    36\n",
      "0         Action                    20\n",
      "10        Sports                    16\n",
      "7   Role-Playing                    13\n",
      "2       Fighting                     4\n",
      "0         others                    11\n"
     ]
    }
   ],
   "source": [
    "top_genres_na=top_genres[['genre', 'na_sales_total_share']]\n",
    "top_genres_na5=top_genres_na.nlargest(5, 'na_sales_total_share')\n",
    "\n",
    "new_row = pd.DataFrame(data = {\n",
    "    'genre' : ['others'],\n",
    "    'na_sales_total_share' : [100-top_genres_na5['na_sales_total_share'].sum()]\n",
    "})\n",
    "\n",
    "top_genres_na5 = pd.concat([top_genres_na5, new_row])\n",
    "\n",
    "print(top_genres_na5)"
   ]
  },
  {
   "cell_type": "code",
   "execution_count": 39,
   "metadata": {},
   "outputs": [
    {
     "name": "stdout",
     "output_type": "stream",
     "text": [
      "genre                 Shooter  Sports  Action  Role-Playing  Racing  others  \\\n",
      "eu_sales_total_share     31.0    23.0    20.0           8.0     3.0    15.0   \n",
      "jp_sales_total_share      5.0     NaN    36.0          34.0     NaN    14.0   \n",
      "na_sales_total_share     36.0    16.0    20.0          13.0     NaN    11.0   \n",
      "\n",
      "genre                 Adventure  Misc  Fighting  \n",
      "eu_sales_total_share        NaN   NaN       NaN  \n",
      "jp_sales_total_share        6.0   5.0       NaN  \n",
      "na_sales_total_share        NaN   NaN       4.0  \n"
     ]
    },
    {
     "data": {
      "text/plain": [
       "<matplotlib.legend.Legend at 0x7fa2c5448d90>"
      ]
     },
     "execution_count": 39,
     "metadata": {},
     "output_type": "execute_result"
    },
    {
     "data": {
      "image/png": "[encoded data removed]",
      "text/plain": [
       "<Figure size 864x288 with 1 Axes>"
      ]
     },
     "metadata": {
      "needs_background": "light"
     },
     "output_type": "display_data"
    }
   ],
   "source": [
    "result = pd.merge(top_genres_eu5, top_genres_jp5, on='genre', how='outer')\n",
    "result = pd.merge(result, top_genres_na5, on='genre', how='outer')\n",
    "result=result.set_index('genre')\n",
    "result=result.transpose()\n",
    "print(result)\n",
    "\n",
    "result.plot(kind='bar', stacked='True', figsize=(12,4), alpha=0.8)\n",
    "subtitle_string = \"Топ-5 жанров в каждом из регионов\"\n",
    "title_string = \"Доля самых популярных платформ от общих продаж в регионе в 2016 году, %\"\n",
    "\n",
    "plt.xlabel('Регион')\n",
    "plt.ylabel('%')\n",
    "\n",
    "plt.suptitle(subtitle_string)\n",
    "plt.title(title_string)\n",
    "plt.legend()"
   ]
  },
  {
   "cell_type": "markdown",
   "metadata": {},
   "source": [
    "В Европе и Северной Америке самый популярный жанр - шутеры. На втором и третьем месте - спортивные игры и Action.\n",
    "В Японии почти не играют в шутеры, зато очень популярны Role-Playing. Игры Action здесь тоже популярнее, чем в других регионах."
   ]
  },
  {
   "cell_type": "markdown",
   "metadata": {},
   "source": [
    "## Рейтинги"
   ]
  },
  {
   "cell_type": "code",
   "execution_count": 40,
   "metadata": {},
   "outputs": [
    {
     "name": "stdout",
     "output_type": "stream",
     "text": [
      "    rating  eu_sales  jp_sales  na_sales  eu_sales_total_share  \\\n",
      "0        E     13.61      1.07      7.97                    26   \n",
      "1     E10+      3.81      0.45      3.81                     7   \n",
      "2        M     16.54      1.20     15.67                    32   \n",
      "3        T      9.79      2.27      8.95                    19   \n",
      "4  no data      7.47     14.32      8.53                    14   \n",
      "\n",
      "   jp_sales_total_share  na_sales_total_share  \n",
      "0                     5                    17  \n",
      "1                     2                     8  \n",
      "2                     6                    34  \n",
      "3                    11                    19  \n",
      "4                    74                    18  \n"
     ]
    }
   ],
   "source": [
    "top_rating=games.query('year_of_release==2016').pivot_table(index='rating', values=['na_sales', 'eu_sales', 'jp_sales'], aggfunc='sum').reset_index()\n",
    "\n",
    "top_rating['eu_sales_total_share']=(top_rating['eu_sales']*100/top_rating['eu_sales'].sum()).astype(int)\n",
    "top_rating['jp_sales_total_share']=(top_rating['jp_sales']*100/top_rating['jp_sales'].sum()).astype(int)\n",
    "top_rating['na_sales_total_share']=(top_rating['na_sales']*100/top_rating['na_sales'].sum()).astype(int)\n",
    "\n",
    "print(top_rating.head(5))"
   ]
  },
  {
   "cell_type": "code",
   "execution_count": 41,
   "metadata": {},
   "outputs": [
    {
     "name": "stdout",
     "output_type": "stream",
     "text": [
      "    rating  eu_sales_total_share\n",
      "2        M                    32\n",
      "0        E                    26\n",
      "3        T                    19\n",
      "4  no data                    14\n",
      "1     E10+                     7\n"
     ]
    }
   ],
   "source": [
    "top_rating_eu=top_rating[['rating', 'eu_sales_total_share']]\n",
    "top_rating_eu5=top_rating_eu.nlargest(5, 'eu_sales_total_share')\n",
    "\n",
    "new_row = pd.DataFrame(data = {\n",
    "    'rating' : ['others'],\n",
    "    'eu_sales_total_share' : [100-top_rating_eu5['eu_sales_total_share'].sum()]\n",
    "})\n",
    "\n",
    "rating = pd.concat([top_rating_eu5, new_row])\n",
    "\n",
    "print(top_rating_eu5)"
   ]
  },
  {
   "cell_type": "code",
   "execution_count": 42,
   "metadata": {},
   "outputs": [
    {
     "name": "stdout",
     "output_type": "stream",
     "text": [
      "    rating  jp_sales_total_share\n",
      "4  no data                    74\n",
      "3        T                    11\n",
      "2        M                     6\n",
      "0        E                     5\n",
      "1     E10+                     2\n",
      "0   others                     2\n"
     ]
    }
   ],
   "source": [
    "top_rating_jp=top_rating[['rating', 'jp_sales_total_share']]\n",
    "top_rating_jp5=top_rating_jp.nlargest(5, 'jp_sales_total_share')\n",
    "\n",
    "new_row = pd.DataFrame(data = {\n",
    "    'rating' : ['others'],\n",
    "    'jp_sales_total_share' : [100-top_rating_jp5['jp_sales_total_share'].sum()]\n",
    "})\n",
    "\n",
    "top_rating_jp5 = pd.concat([top_rating_jp5, new_row])\n",
    "\n",
    "print(top_rating_jp5)"
   ]
  },
  {
   "cell_type": "code",
   "execution_count": 43,
   "metadata": {},
   "outputs": [
    {
     "name": "stdout",
     "output_type": "stream",
     "text": [
      "    rating  na_sales_total_share\n",
      "2        M                    34\n",
      "3        T                    19\n",
      "4  no data                    18\n",
      "0        E                    17\n",
      "1     E10+                     8\n",
      "0   others                     4\n"
     ]
    }
   ],
   "source": [
    "top_rating_na=top_rating[['rating', 'na_sales_total_share']]\n",
    "top_rating_na5=top_rating_na.nlargest(5, 'na_sales_total_share')\n",
    "\n",
    "new_row = pd.DataFrame(data = {\n",
    "    'rating' : ['others'],\n",
    "    'na_sales_total_share' : [100-top_rating_na5['na_sales_total_share'].sum()]\n",
    "})\n",
    "\n",
    "top_rating_na5 = pd.concat([top_rating_na5, new_row])\n",
    "\n",
    "print(top_rating_na5)"
   ]
  },
  {
   "cell_type": "code",
   "execution_count": 44,
   "metadata": {},
   "outputs": [],
   "source": [
    "result_rating = pd.merge(top_rating_eu5, top_rating_jp5, on='rating', how='outer')\n",
    "result_rating = pd.merge(result_rating, top_rating_na5, on='rating', how='outer')\n",
    "result_rating=result_rating.set_index('rating')\n",
    "result_rating=result_rating.transpose()"
   ]
  },
  {
   "cell_type": "code",
   "execution_count": 45,
   "metadata": {},
   "outputs": [
    {
     "data": {
      "text/html": [
       "<div>\n",
       "<style scoped>\n",
       "    .dataframe tbody tr th:only-of-type {\n",
       "        vertical-align: middle;\n",
       "    }\n",
       "\n",
       "    .dataframe tbody tr th {\n",
       "        vertical-align: top;\n",
       "    }\n",
       "\n",
       "    .dataframe thead th {\n",
       "        text-align: right;\n",
       "    }\n",
       "</style>\n",
       "<table border=\"1\" class=\"dataframe\">\n",
       "  <thead>\n",
       "    <tr style=\"text-align: right;\">\n",
       "      <th>rating</th>\n",
       "      <th>M</th>\n",
       "      <th>E</th>\n",
       "      <th>T</th>\n",
       "      <th>no data</th>\n",
       "      <th>E10+</th>\n",
       "      <th>others</th>\n",
       "    </tr>\n",
       "  </thead>\n",
       "  <tbody>\n",
       "    <tr>\n",
       "      <td>eu_sales_total_share</td>\n",
       "      <td>32.0</td>\n",
       "      <td>26.0</td>\n",
       "      <td>19.0</td>\n",
       "      <td>14.0</td>\n",
       "      <td>7.0</td>\n",
       "      <td>NaN</td>\n",
       "    </tr>\n",
       "    <tr>\n",
       "      <td>jp_sales_total_share</td>\n",
       "      <td>6.0</td>\n",
       "      <td>5.0</td>\n",
       "      <td>11.0</td>\n",
       "      <td>74.0</td>\n",
       "      <td>2.0</td>\n",
       "      <td>2.0</td>\n",
       "    </tr>\n",
       "    <tr>\n",
       "      <td>na_sales_total_share</td>\n",
       "      <td>34.0</td>\n",
       "      <td>17.0</td>\n",
       "      <td>19.0</td>\n",
       "      <td>18.0</td>\n",
       "      <td>8.0</td>\n",
       "      <td>4.0</td>\n",
       "    </tr>\n",
       "  </tbody>\n",
       "</table>\n",
       "</div>"
      ],
      "text/plain": [
       "rating                   M     E     T  no data  E10+  others\n",
       "eu_sales_total_share  32.0  26.0  19.0     14.0   7.0     NaN\n",
       "jp_sales_total_share   6.0   5.0  11.0     74.0   2.0     2.0\n",
       "na_sales_total_share  34.0  17.0  19.0     18.0   8.0     4.0"
      ]
     },
     "metadata": {},
     "output_type": "display_data"
    },
    {
     "data": {
      "image/png": "[encoded data removed]",
      "text/plain": [
       "<Figure size 864x288 with 1 Axes>"
      ]
     },
     "metadata": {
      "needs_background": "light"
     },
     "output_type": "display_data"
    }
   ],
   "source": [
    "result_rating.plot(kind='bar', stacked='True', figsize=(12,4), alpha=0.8)\n",
    "subtitle_string = \"Топ-5 платформ в каждом из регионов\"\n",
    "title_string = \"Доля самых популярных жанров от общих продаж в регионе в 2016 году, %\"\n",
    "\n",
    "plt.xlabel('Регион')\n",
    "plt.ylabel('%')\n",
    "\n",
    "plt.suptitle(subtitle_string)\n",
    "plt.title(title_string)\n",
    "plt.legend()\n",
    "\n",
    "display(result_rating)"
   ]
  },
  {
   "cell_type": "markdown",
   "metadata": {},
   "source": [
    "В Японии преобладают игры, которым не присвоен возрастной рейтинг. Это связано с тем, что там действует своя система рейтингования, а ESRB не является обязательной.\n",
    "\n",
    "В Европе и США треть игр - для взрослых (старше 17 лет). "
   ]
  },
  {
   "cell_type": "markdown",
   "metadata": {},
   "source": [
    "## Самые популярные игры"
   ]
  },
  {
   "cell_type": "markdown",
   "metadata": {},
   "source": [
    "Узнаем, какие игры были популярны в трех регионах."
   ]
  },
  {
   "cell_type": "code",
   "execution_count": 46,
   "metadata": {},
   "outputs": [],
   "source": [
    "top_games=games.query('year_of_release==2016').pivot_table(index='name', values=['na_sales', 'eu_sales', 'jp_sales'], aggfunc='sum').reset_index()\n",
    "\n",
    "top_games['eu_sales_total_share']=(top_games['eu_sales']*100/top_games['eu_sales'].sum()).astype(int)\n",
    "top_games['jp_sales_total_share']=(top_games['jp_sales']*100/top_games['jp_sales'].sum()).astype(int)\n",
    "top_games['na_sales_total_share']=(top_games['na_sales']*100/top_games['na_sales'].sum()).astype(int)\n",
    "\n"
   ]
  },
  {
   "cell_type": "code",
   "execution_count": 47,
   "metadata": {},
   "outputs": [
    {
     "data": {
      "text/html": [
       "<div>\n",
       "<style scoped>\n",
       "    .dataframe tbody tr th:only-of-type {\n",
       "        vertical-align: middle;\n",
       "    }\n",
       "\n",
       "    .dataframe tbody tr th {\n",
       "        vertical-align: top;\n",
       "    }\n",
       "\n",
       "    .dataframe thead th {\n",
       "        text-align: right;\n",
       "    }\n",
       "</style>\n",
       "<table border=\"1\" class=\"dataframe\">\n",
       "  <thead>\n",
       "    <tr style=\"text-align: right;\">\n",
       "      <th></th>\n",
       "      <th>name</th>\n",
       "      <th>jp_sales_total_share</th>\n",
       "    </tr>\n",
       "  </thead>\n",
       "  <tbody>\n",
       "    <tr>\n",
       "      <td>179</td>\n",
       "      <td>Pokemon Sun/Moon</td>\n",
       "      <td>11</td>\n",
       "    </tr>\n",
       "    <tr>\n",
       "      <td>291</td>\n",
       "      <td>Yokai Watch 3</td>\n",
       "      <td>6</td>\n",
       "    </tr>\n",
       "    <tr>\n",
       "      <td>75</td>\n",
       "      <td>Dragon Quest Builders: Revive Alefgard</td>\n",
       "      <td>3</td>\n",
       "    </tr>\n",
       "    <tr>\n",
       "      <td>76</td>\n",
       "      <td>Dragon Quest Heroes II: Twin Kings and the Pro...</td>\n",
       "      <td>3</td>\n",
       "    </tr>\n",
       "    <tr>\n",
       "      <td>77</td>\n",
       "      <td>Dragon Quest Monsters Joker 3</td>\n",
       "      <td>3</td>\n",
       "    </tr>\n",
       "    <tr>\n",
       "      <td>119</td>\n",
       "      <td>Jikkyou Powerful Pro Baseball 2016</td>\n",
       "      <td>2</td>\n",
       "    </tr>\n",
       "    <tr>\n",
       "      <td>128</td>\n",
       "      <td>Kirby: Planet Robobot</td>\n",
       "      <td>2</td>\n",
       "    </tr>\n",
       "    <tr>\n",
       "      <td>176</td>\n",
       "      <td>Persona 5</td>\n",
       "      <td>2</td>\n",
       "    </tr>\n",
       "    <tr>\n",
       "      <td>290</td>\n",
       "      <td>Yokai Sangokushi</td>\n",
       "      <td>2</td>\n",
       "    </tr>\n",
       "    <tr>\n",
       "      <td>6</td>\n",
       "      <td>Ace Attorney 6</td>\n",
       "      <td>1</td>\n",
       "    </tr>\n",
       "  </tbody>\n",
       "</table>\n",
       "</div>"
      ],
      "text/plain": [
       "                                                  name  jp_sales_total_share\n",
       "179                                   Pokemon Sun/Moon                    11\n",
       "291                                      Yokai Watch 3                     6\n",
       "75              Dragon Quest Builders: Revive Alefgard                     3\n",
       "76   Dragon Quest Heroes II: Twin Kings and the Pro...                     3\n",
       "77                       Dragon Quest Monsters Joker 3                     3\n",
       "119                 Jikkyou Powerful Pro Baseball 2016                     2\n",
       "128                              Kirby: Planet Robobot                     2\n",
       "176                                          Persona 5                     2\n",
       "290                                   Yokai Sangokushi                     2\n",
       "6                                       Ace Attorney 6                     1"
      ]
     },
     "metadata": {},
     "output_type": "display_data"
    },
    {
     "data": {
      "text/html": [
       "<div>\n",
       "<style scoped>\n",
       "    .dataframe tbody tr th:only-of-type {\n",
       "        vertical-align: middle;\n",
       "    }\n",
       "\n",
       "    .dataframe tbody tr th {\n",
       "        vertical-align: top;\n",
       "    }\n",
       "\n",
       "    .dataframe thead th {\n",
       "        text-align: right;\n",
       "    }\n",
       "</style>\n",
       "<table border=\"1\" class=\"dataframe\">\n",
       "  <thead>\n",
       "    <tr style=\"text-align: right;\">\n",
       "      <th></th>\n",
       "      <th>name</th>\n",
       "      <th>eu_sales_total_share</th>\n",
       "    </tr>\n",
       "  </thead>\n",
       "  <tbody>\n",
       "    <tr>\n",
       "      <td>89</td>\n",
       "      <td>FIFA 17</td>\n",
       "      <td>17</td>\n",
       "    </tr>\n",
       "    <tr>\n",
       "      <td>31</td>\n",
       "      <td>Battlefield 1</td>\n",
       "      <td>6</td>\n",
       "    </tr>\n",
       "    <tr>\n",
       "      <td>40</td>\n",
       "      <td>Call of Duty: Infinite Warfare</td>\n",
       "      <td>5</td>\n",
       "    </tr>\n",
       "    <tr>\n",
       "      <td>264</td>\n",
       "      <td>Tom Clancy's The Division</td>\n",
       "      <td>4</td>\n",
       "    </tr>\n",
       "    <tr>\n",
       "      <td>272</td>\n",
       "      <td>Uncharted 4: A Thief's End</td>\n",
       "      <td>4</td>\n",
       "    </tr>\n",
       "    <tr>\n",
       "      <td>90</td>\n",
       "      <td>Far Cry: Primal</td>\n",
       "      <td>3</td>\n",
       "    </tr>\n",
       "    <tr>\n",
       "      <td>71</td>\n",
       "      <td>Doom (2016)</td>\n",
       "      <td>2</td>\n",
       "    </tr>\n",
       "    <tr>\n",
       "      <td>142</td>\n",
       "      <td>Mafia III</td>\n",
       "      <td>2</td>\n",
       "    </tr>\n",
       "    <tr>\n",
       "      <td>171</td>\n",
       "      <td>Overwatch</td>\n",
       "      <td>2</td>\n",
       "    </tr>\n",
       "    <tr>\n",
       "      <td>179</td>\n",
       "      <td>Pokemon Sun/Moon</td>\n",
       "      <td>2</td>\n",
       "    </tr>\n",
       "  </tbody>\n",
       "</table>\n",
       "</div>"
      ],
      "text/plain": [
       "                               name  eu_sales_total_share\n",
       "89                          FIFA 17                    17\n",
       "31                    Battlefield 1                     6\n",
       "40   Call of Duty: Infinite Warfare                     5\n",
       "264       Tom Clancy's The Division                     4\n",
       "272      Uncharted 4: A Thief's End                     4\n",
       "90                  Far Cry: Primal                     3\n",
       "71                      Doom (2016)                     2\n",
       "142                       Mafia III                     2\n",
       "171                       Overwatch                     2\n",
       "179                Pokemon Sun/Moon                     2"
      ]
     },
     "metadata": {},
     "output_type": "display_data"
    },
    {
     "data": {
      "text/html": [
       "<div>\n",
       "<style scoped>\n",
       "    .dataframe tbody tr th:only-of-type {\n",
       "        vertical-align: middle;\n",
       "    }\n",
       "\n",
       "    .dataframe tbody tr th {\n",
       "        vertical-align: top;\n",
       "    }\n",
       "\n",
       "    .dataframe thead th {\n",
       "        text-align: right;\n",
       "    }\n",
       "</style>\n",
       "<table border=\"1\" class=\"dataframe\">\n",
       "  <thead>\n",
       "    <tr style=\"text-align: right;\">\n",
       "      <th></th>\n",
       "      <th>name</th>\n",
       "      <th>na_sales_total_share</th>\n",
       "    </tr>\n",
       "  </thead>\n",
       "  <tbody>\n",
       "    <tr>\n",
       "      <td>40</td>\n",
       "      <td>Call of Duty: Infinite Warfare</td>\n",
       "      <td>6</td>\n",
       "    </tr>\n",
       "    <tr>\n",
       "      <td>179</td>\n",
       "      <td>Pokemon Sun/Moon</td>\n",
       "      <td>6</td>\n",
       "    </tr>\n",
       "    <tr>\n",
       "      <td>264</td>\n",
       "      <td>Tom Clancy's The Division</td>\n",
       "      <td>6</td>\n",
       "    </tr>\n",
       "    <tr>\n",
       "      <td>31</td>\n",
       "      <td>Battlefield 1</td>\n",
       "      <td>5</td>\n",
       "    </tr>\n",
       "    <tr>\n",
       "      <td>141</td>\n",
       "      <td>Madden NFL 17</td>\n",
       "      <td>5</td>\n",
       "    </tr>\n",
       "    <tr>\n",
       "      <td>158</td>\n",
       "      <td>NBA 2K17</td>\n",
       "      <td>5</td>\n",
       "    </tr>\n",
       "    <tr>\n",
       "      <td>272</td>\n",
       "      <td>Uncharted 4: A Thief's End</td>\n",
       "      <td>4</td>\n",
       "    </tr>\n",
       "    <tr>\n",
       "      <td>171</td>\n",
       "      <td>Overwatch</td>\n",
       "      <td>3</td>\n",
       "    </tr>\n",
       "    <tr>\n",
       "      <td>55</td>\n",
       "      <td>Dark Souls III</td>\n",
       "      <td>2</td>\n",
       "    </tr>\n",
       "    <tr>\n",
       "      <td>71</td>\n",
       "      <td>Doom (2016)</td>\n",
       "      <td>2</td>\n",
       "    </tr>\n",
       "  </tbody>\n",
       "</table>\n",
       "</div>"
      ],
      "text/plain": [
       "                               name  na_sales_total_share\n",
       "40   Call of Duty: Infinite Warfare                     6\n",
       "179                Pokemon Sun/Moon                     6\n",
       "264       Tom Clancy's The Division                     6\n",
       "31                    Battlefield 1                     5\n",
       "141                   Madden NFL 17                     5\n",
       "158                        NBA 2K17                     5\n",
       "272      Uncharted 4: A Thief's End                     4\n",
       "171                       Overwatch                     3\n",
       "55                   Dark Souls III                     2\n",
       "71                      Doom (2016)                     2"
      ]
     },
     "metadata": {},
     "output_type": "display_data"
    }
   ],
   "source": [
    "top_games_jp=top_games[['name', 'jp_sales_total_share']]\n",
    "top_games_jp5=top_games_jp.nlargest(10, 'jp_sales_total_share')\n",
    "\n",
    "top_games_eu=top_games[['name', 'eu_sales_total_share']]\n",
    "top_games_eu5=top_games_eu.nlargest(10, 'eu_sales_total_share')\n",
    "\n",
    "top_games_na=top_games[['name', 'na_sales_total_share']]\n",
    "top_games_na5=top_games_na.nlargest(10, 'na_sales_total_share')\n",
    "\n",
    "display(top_games_jp5)\n",
    "display(top_games_eu5)\n",
    "display(top_games_na5)\n",
    "\n"
   ]
  },
  {
   "cell_type": "markdown",
   "metadata": {},
   "source": [
    "В 2016 году в Европе и Японии наблюдалось преобладание одной игры. В Европе 17% платежей пришлось на Fifa 17, а в Японии 11% платежей - на Pokemon Sun/Moon.\n",
    "\n",
    "В США рынок в 2016 году был не такой консолидированный. По 6% получили следующие игры: Call of Duty: Infinite Warfare, Pokemon Sun/Moon, Tom Clancy's The Division.\n"
   ]
  },
  {
   "cell_type": "markdown",
   "metadata": {},
   "source": [
    "<a id='the_destination8'></a>\n",
    "## Проверка гипотез"
   ]
  },
  {
   "cell_type": "markdown",
   "metadata": {},
   "source": [
    "По просьбе заказчика проверяем две гипотезы.\n",
    "1. Нулевая гипотеза: Средние пользовательские рейтинги платформ Xbox One и PC одинаковые.\n",
    "Мы возьмем для проверки этой гипотезы данные за последние три года. При этом не будем учитывать те игры, которым не выставлен пользовательский рейтинг."
   ]
  },
  {
   "cell_type": "code",
   "execution_count": 48,
   "metadata": {},
   "outputs": [
    {
     "name": "stdout",
     "output_type": "stream",
     "text": [
      "p-значение: 0.11601398086668827\n",
      "Не получилось отвергнуть нулевую гипотезу\n"
     ]
    }
   ],
   "source": [
    "games_xone=games.query('platform==\"XOne\"&year_of_release>2013&user_score!=0')['user_score']\n",
    "games_pc=games.query('platform==\"PC\"&year_of_release>2013&user_score!=0')['user_score']\n",
    "\n",
    "\n",
    "alpha=0.05\n",
    "\n",
    "results = st.ttest_ind(games_xone, games_pc, equal_var=False)\n",
    "\n",
    "print('p-значение:', results.pvalue)\n",
    "\n",
    "if (results.pvalue < alpha):\n",
    "    print(\"Отвергаем нулевую гипотезу\")\n",
    "else:\n",
    "    print(\"Не получилось отвергнуть нулевую гипотезу\")\n"
   ]
  },
  {
   "cell_type": "code",
   "execution_count": 49,
   "metadata": {},
   "outputs": [
    {
     "name": "stdout",
     "output_type": "stream",
     "text": [
      "6.594545454545456\n",
      "6.298360655737705\n"
     ]
    }
   ],
   "source": [
    "print(games_xone.mean())\n",
    "print(games_pc.mean())"
   ]
  },
  {
   "cell_type": "markdown",
   "metadata": {},
   "source": [
    "2. Нулевая гипотеза: Средние пользовательские рейтинги жанров Action (англ. «действие», экшен-игры) и Sports (англ. «спортивные соревнования») одинаковые.\n",
    "Мы возьмем для проверки этой гипотезы данные о продажах игр за последние три года. При этом не будем учитывать те игры, которым не выставлен пользовательский рейтинг."
   ]
  },
  {
   "cell_type": "code",
   "execution_count": 50,
   "metadata": {},
   "outputs": [
    {
     "name": "stdout",
     "output_type": "stream",
     "text": [
      "p-значение: 1.1825550382644557e-14\n",
      "Отвергаем нулевую гипотезу\n"
     ]
    }
   ],
   "source": [
    "games_action=games.query('genre==\"Action\"&year_of_release>2013&user_score!=0')['user_score']\n",
    "games_sports=games.query('genre==\"Sports\"&year_of_release>2013&user_score!=0')['user_score']\n",
    "\n",
    "\n",
    "alpha=0.05\n",
    "\n",
    "results = st.ttest_ind(games_action, games_sports, equal_var=False)\n",
    "\n",
    "print('p-значение:', results.pvalue)\n",
    "\n",
    "if (results.pvalue < alpha):\n",
    "    print(\"Отвергаем нулевую гипотезу\")\n",
    "else:\n",
    "    print(\"Не получилось отвергнуть нулевую гипотезу\")"
   ]
  },
  {
   "cell_type": "code",
   "execution_count": 51,
   "metadata": {},
   "outputs": [
    {
     "name": "stdout",
     "output_type": "stream",
     "text": [
      "7.1\n",
      "5.5\n"
     ]
    }
   ],
   "source": [
    "print(games_action.median())\n",
    "print(games_sports.median())"
   ]
  },
  {
   "cell_type": "markdown",
   "metadata": {},
   "source": [
    "Мы не смогли отвергнуть нулевую гипотезу о том, что игры платформ XBox и PC одинаковые - в среднем они почти не отличаются.\n",
    "\n",
    "Нам пришлось отвергнуть нулевую гипотезу о том, что игры жанров Action и Sport имеют одинаковые рейтинги. Они разные, притом рейтинг Sports в среднем на 50% ниже, чем Action."
   ]
  },
  {
   "cell_type": "markdown",
   "metadata": {},
   "source": [
    "<a id='the_destination9'></a>\n",
    "\n",
    "## Вывод\n",
    "\n",
    "- Данные\n",
    "\n",
    "Для анализа нам были доступны данные о продажах игр в 1985-2016 годах. В датасете есть информация о дате выпуска игры, платформе, на которой она выпущена, игровом жанре, продажах в разных регионах, пользовательских рейтингах и рейтингах критиков.\n",
    "\n",
    "Мы взяли данные из открытого источника - энтузиаст по имени Rush Kirubi спарсил данные с сайта VGChartz, который публикует информацию о продажах видеоигр, и сайта Metacritic, который публикует данные о рейтингах.\n",
    "\n",
    "Датасет был сформирован 22 декабря 2016 года.\n",
    "\n",
    "Мы удалили строки, где пропущено название игры и год выпуска игры.\n",
    "Остальные пропущенные значения заменили на \"нет данных\" или нули, чтобы можно было обращаться с этим столбцом как числовым.\n",
    "\n",
    "- Сроки продаж игры\n",
    "\n",
    "С помощью дополнительных данных из того же источника мы узнали, что в среднем 60% игр, которые покупались в течение года, не будут продаваться в другие годы. Их срок жизни - лишь один год.\n",
    "\n",
    "что больше 60% игр, находящихся в продаже в 2005-2020 годах, продаются лишь один год - 100% их продаж происходит лишь в течение одного года.\n",
    "\n",
    "Но, например, Grand Theft Auto V для PS4, вышедший в 2014 году, и Call of Duty: Infinite Warfare для XOne, вышедший в 2016 году, пользовались популярностью больше одного года. И хотя разумнее всего рекламировать игру перед и сразу после релиза, когда цены на нее и спрос максимальные, в случае выхода dlc (нового платного контента, дополняющего игру), можно дать рекламу еще раз, таргетируя ее на заинтересованных в игре пользователей.\n",
    "\n",
    "Можно было бы выгрузить с помощью Web Archive данные за 22 декабря, когда был выгружен основной датасет, но не удалось подобрать дату, когда они на 100% соответстветствовали бы. В следующий раз можно выгружать эти данные вместе.\n",
    "\n",
    "- Состояние рынка\n",
    "\n",
    "Если до 2010 года годовые продажи игр доходили до 700 млн долларов, то в 2016 году они составляли 130 млн долларов.\n",
    "При этом выручка в расчете на игру сильно снизилась в 91-м году - после выхода хитов Super Mario (1985), Duck Hunt (1984) и Tetris (1989), но с тех пор оставалась стабильно низкой. В 2015 и 2016 годах она еще снизилась, возможно, из-за финансового кризиса.\n",
    "\n",
    "Очевидно, мы имеем дело с падающим рынком. Возможно, игровые платформы уступают место онлайн-играм и мобильным играм. В этой ситуации, возможно, стоит рассмотреть варианты диверсификации продаж за счет других смежных рынков.\n",
    "\n",
    "- Жизненный цикл платформы\n",
    "\n",
    "Жизненный цикл платформы - около 5 лет. Рекламировать стоит те платформы, которые показали хорошие результаты или рост за предыдущий год.\n",
    "\n",
    "В 2016 году наиболее продаваемые игры выходили на Play Station 4 и Xbox One и портативнаой приставке 3DS от Nintendo. Кроме этого довольно популярны игры для персонального компьютера. И хотя PC отстает от трех самых продаваемых платформ - формально PC можно было бы отбросить, не стоит этого делать. Эта платформа - долгожитель, и держит популярность дольше среднего, как видно на графике выше.\n",
    "\n",
    "Самые популярные сейчас платформы, XOne и PS4, были выпущены на рынок в 2013 году. С тех пор для PS4 вышло в 1,5 раза больше игр (392 против 247). Медианные выручки каждой игры на этих платформах почти одинаковые (у XOne немного больше - 0,22 млн долларов против 0,2). Но средний показатель выше у PS4 благодаря очень успешным продажам Call of Duty, GTA и FIFA.\n",
    "\n",
    "Суммарная выручка одних и тех же игр почти в два раза больше на PS4.\n",
    "\n",
    "- Влияние оценок других пользователей на продажи\n",
    "\n",
    "Продажи больше коррелируют с оценками критиков, чем оценками других пользователей (0,33 против 0,03). Что интересно, влияние мнения критиков выше в Европе (0,3) и Северной Америке (0,3), чем в Японии (0,13).\n",
    "\n",
    "Зато в Японии больше влияние оценок пользователей (0,13 в Японии против 0,06 в Европе и 0,09 в США).\n",
    "\n",
    "Этот показатель не может быть единственным при принятии решения. У многих игр отсутствует рейтинг, в общей сложности примерно у половины. В том числе у тех, что показавали большие продажи. Характерный пример - Call of Duty: Black Ops 3, который собрал 14,63 млн долларов или около 5% выручки всех игр в 2015 году.\n",
    "\n",
    "Возможно, следует усовершенствовать методику сбора информации о рейтингах игр.\n",
    "\n",
    "- Самые популярные жанры\n",
    "\n",
    "В 2014-2016 годах \"стрелялки\" в среднем продавались в несколько раз лучше, чем игры других жанров (1,3 млн долларов в среднем на игру, что примерно в три раза лучше среднего). На втором месте - спортивные игры (0,7 млн долларов на игру).\n",
    "\n",
    "Кроме этого, выше среднего продажи игр в следующих жанрах: Fighting, Platform, Role-Playing.\n",
    "\n",
    "Игры жанра Action дают большой доход в целом, но принадлежность к этому жанру - не залог успеха. Таких игр выпускается очень много, и многие из них проваливаются.\n",
    "\n",
    "- Портрет пользователя\n",
    "\n",
    "<b>Платформы.</b> В Европе и Северной Америке лидируют Play Station 4 и Xbox One. В обоих регионах на игры для этих двух платформ приходится 80% рынка игр.\n",
    "В Японии ситуация другая, там заметное место занимают портативные платформы (те, для которых не нужен экран; они хорошо подходят для игры, например, в транспорте). На первом по продажам месте там игры для 3DS от Nintendo, а третье - портативная PSV. ПРи этом в Японии, в отличие от Европы и Северной Америки, почти не играют на PC.\n",
    "\n",
    "PS4 занимает в Японии второе место по продажам игр, то есть эта платформа популярна во всех трех регионах.\n",
    "\n",
    "<b>Жанры.</b> В Европе и Северной Америке самый популярный жанр - шутеры. На втором и третьем месте - спортивные игры и Action.\n",
    "В Японии почти не играют в шутеры, зато очень популярны Role-Playing. Игры Action здесь тоже популярнее, чем в других регионах.\n",
    "\n",
    "<b>Влияние возрастных рейтингов.</b> В Японии преобладают игры, которым не присвоен возрастной рейтинг. Это связано с тем, что там действует своя система рейтингования, а ESRB не является обязательной.\n",
    "\n",
    "В Европе и США треть игр - для взрослых (старше 17 лет). \n",
    "\n",
    "<b>Самые продаваемые игры.</b> В 2016 году в Европе и Японии наблюдалось преобладание одной игры. В Европе 17% платежей пришлось на Fifa 17, а в Японии 11% платежей - на Pokemon Sun/Moon.\n",
    "\n",
    "В США рынок в 2016 году был не такой консолидированный. По 6% получили следующие игры: Call of Duty: Infinite Warfare, Pokemon Sun/Moon, Tom Clancy's The Division.\n",
    "\n",
    "- Проверка гипотез\n",
    "\n",
    "Мы не смогли отвергнуть нулевую гипотезу о том, что игры платформ XBox и PC одинаковые - в среднем они почти не отличаются.\n",
    "\n",
    "Нам пришлось отвергнуть нулевую гипотезу о том, что игры жанров Action и Sport имеют одинаковые рейтинги. Они разные, притом рейтинг Sports в среднем на 50% ниже, чем Action."
   ]
  }
 ],
 "metadata": {
  "ExecuteTimeLog": [
   {
    "duration": 1517,
    "start_time": "2021-07-08T20:32:24.131Z"
   },
   {
    "duration": 83,
    "start_time": "2021-07-08T20:32:25.651Z"
   },
   {
    "duration": 25,
    "start_time": "2021-07-08T20:32:25.737Z"
   },
   {
    "duration": 46,
    "start_time": "2021-07-08T20:32:25.765Z"
   },
   {
    "duration": 22,
    "start_time": "2021-07-08T20:32:25.814Z"
   },
   {
    "duration": 96,
    "start_time": "2021-07-08T20:32:25.871Z"
   },
   {
    "duration": 203,
    "start_time": "2021-07-08T20:32:25.970Z"
   },
   {
    "duration": 32,
    "start_time": "2021-07-08T20:32:26.176Z"
   },
   {
    "duration": 653,
    "start_time": "2021-07-08T20:32:26.212Z"
   },
   {
    "duration": 526,
    "start_time": "2021-07-08T20:32:26.868Z"
   },
   {
    "duration": 1064,
    "start_time": "2021-07-08T20:32:27.397Z"
   },
   {
    "duration": 31,
    "start_time": "2021-07-08T20:32:28.465Z"
   },
   {
    "duration": 16,
    "start_time": "2021-07-08T20:32:28.499Z"
   },
   {
    "duration": 1009,
    "start_time": "2021-07-08T20:32:28.517Z"
   },
   {
    "duration": 537,
    "start_time": "2021-07-08T20:32:29.528Z"
   },
   {
    "duration": 594,
    "start_time": "2021-07-08T20:32:30.068Z"
   },
   {
    "duration": 27,
    "start_time": "2021-07-08T20:32:30.665Z"
   },
   {
    "duration": 521,
    "start_time": "2021-07-08T20:32:30.695Z"
   },
   {
    "duration": 66,
    "start_time": "2021-07-08T20:32:31.219Z"
   },
   {
    "duration": 49,
    "start_time": "2021-07-08T20:32:31.288Z"
   },
   {
    "duration": 867,
    "start_time": "2021-07-08T20:32:31.340Z"
   },
   {
    "duration": 71,
    "start_time": "2021-07-08T20:32:32.210Z"
   },
   {
    "duration": 13,
    "start_time": "2021-07-08T20:32:32.289Z"
   },
   {
    "duration": 9,
    "start_time": "2021-07-08T20:32:32.306Z"
   },
   {
    "duration": 562,
    "start_time": "2021-07-08T20:32:32.319Z"
   },
   {
    "duration": 27,
    "start_time": "2021-07-08T20:32:32.884Z"
   },
   {
    "duration": 48,
    "start_time": "2021-07-08T20:32:32.914Z"
   },
   {
    "duration": 16,
    "start_time": "2021-07-08T20:32:32.966Z"
   },
   {
    "duration": 15,
    "start_time": "2021-07-08T20:32:32.985Z"
   },
   {
    "duration": 11,
    "start_time": "2021-07-08T20:32:33.005Z"
   },
   {
    "duration": 54,
    "start_time": "2021-07-08T20:32:33.018Z"
   },
   {
    "duration": 9,
    "start_time": "2021-07-08T20:32:33.075Z"
   },
   {
    "duration": 582,
    "start_time": "2021-07-08T20:32:33.087Z"
   },
   {
    "duration": 30,
    "start_time": "2021-07-08T20:32:33.672Z"
   },
   {
    "duration": 20,
    "start_time": "2021-07-08T20:32:33.705Z"
   },
   {
    "duration": 51,
    "start_time": "2021-07-08T20:32:33.728Z"
   },
   {
    "duration": 17,
    "start_time": "2021-07-08T20:32:33.782Z"
   },
   {
    "duration": 23,
    "start_time": "2021-07-08T20:32:33.802Z"
   },
   {
    "duration": 741,
    "start_time": "2021-07-08T20:32:33.828Z"
   },
   {
    "duration": 40,
    "start_time": "2021-07-08T20:32:34.572Z"
   },
   {
    "duration": 21,
    "start_time": "2021-07-08T20:32:34.615Z"
   },
   {
    "duration": 40,
    "start_time": "2021-07-08T20:32:34.639Z"
   },
   {
    "duration": 30,
    "start_time": "2021-07-08T20:32:34.683Z"
   },
   {
    "duration": 23,
    "start_time": "2021-07-08T20:32:34.715Z"
   },
   {
    "duration": 496,
    "start_time": "2021-07-08T20:32:34.740Z"
   },
   {
    "duration": 49,
    "start_time": "2021-07-08T20:32:35.238Z"
   },
   {
    "duration": 45,
    "start_time": "2021-07-08T20:32:35.290Z"
   },
   {
    "duration": 37,
    "start_time": "2021-07-08T20:32:35.362Z"
   },
   {
    "duration": 5,
    "start_time": "2021-07-08T20:32:35.402Z"
   },
   {
    "duration": 20,
    "start_time": "2021-07-08T20:32:35.410Z"
   },
   {
    "duration": 6,
    "start_time": "2021-07-08T20:32:35.461Z"
   }
  ],
  "kernelspec": {
   "display_name": "Python 3",
   "language": "python",
   "name": "python3"
  },
  "language_info": {
   "codemirror_mode": {
    "name": "ipython",
    "version": 3
   },
   "file_extension": ".py",
   "mimetype": "text/x-python",
   "name": "python",
   "nbconvert_exporter": "python",
   "pygments_lexer": "ipython3",
   "version": "3.7.8"
  },
  "toc": {
   "base_numbering": 1,
   "nav_menu": {},
   "number_sections": true,
   "sideBar": true,
   "skip_h1_title": true,
   "title_cell": "Table of Contents",
   "title_sidebar": "Contents",
   "toc_cell": false,
   "toc_position": {},
   "toc_section_display": true,
   "toc_window_display": false
  }
 },
 "nbformat": 4,
 "nbformat_minor": 2
}
